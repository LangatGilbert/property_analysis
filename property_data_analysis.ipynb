{
 "cells": [
  {
   "cell_type": "code",
   "execution_count": 1,
   "id": "2ca7dfa5",
   "metadata": {},
   "outputs": [],
   "source": [
    "import warnings\n",
    "warnings.filterwarnings('ignore')\n",
    "\n",
    "import pandas as pd\n",
    "import numpy as np\n",
    "pd.options.display.float_format = \"{:.0f}\".format\n",
    "\n",
    "# to print out all the outputs\n",
    "from IPython.core.interactiveshell import InteractiveShell\n",
    "InteractiveShell.ast_node_interactivity = \"all\"\n",
    "# set display options\n",
    "pd.set_option('display.max_columns', None)\n",
    "pd.set_option('display.max_rows', None)\n",
    "pd.set_option('display.max_colwidth', -1)\n",
    "\n",
    "import matplotlib.pylab as plt\n",
    "%matplotlib inline\n",
    "import seaborn as sns"
   ]
  },
  {
   "cell_type": "code",
   "execution_count": 2,
   "id": "033a0320",
   "metadata": {},
   "outputs": [],
   "source": [
    "data = pd.read_csv(\"./data/buyrent_properties_2021.10.27.csv\")"
   ]
  },
  {
   "cell_type": "code",
   "execution_count": 3,
   "id": "5be230d1",
   "metadata": {},
   "outputs": [
    {
     "data": {
      "text/html": [
       "<div>\n",
       "<style scoped>\n",
       "    .dataframe tbody tr th:only-of-type {\n",
       "        vertical-align: middle;\n",
       "    }\n",
       "\n",
       "    .dataframe tbody tr th {\n",
       "        vertical-align: top;\n",
       "    }\n",
       "\n",
       "    .dataframe thead th {\n",
       "        text-align: right;\n",
       "    }\n",
       "</style>\n",
       "<table border=\"1\" class=\"dataframe\">\n",
       "  <thead>\n",
       "    <tr style=\"text-align: right;\">\n",
       "      <th></th>\n",
       "      <th>property_title</th>\n",
       "      <th>property_location</th>\n",
       "      <th>property_area</th>\n",
       "      <th>property_bedrooms</th>\n",
       "      <th>property_bathrooms</th>\n",
       "      <th>property_description</th>\n",
       "      <th>property_agent</th>\n",
       "      <th>property_price</th>\n",
       "    </tr>\n",
       "  </thead>\n",
       "  <tbody>\n",
       "    <tr>\n",
       "      <th>0</th>\n",
       "      <td>\\n4 ac land for sale in Kilimani\\n</td>\n",
       "      <td>\\n\\nArgwing Kodhek, Kilimani, Dagoretti North\\n\\n</td>\n",
       "      <td>\\n4 ac\\n</td>\n",
       "      <td>-</td>\n",
       "      <td>-</td>\n",
       "      <td>\\n4 ac land for Sale in Kilimani\\n</td>\n",
       "      <td>-</td>\n",
       "      <td>\\nKSh 1,600,000,000\\n</td>\n",
       "    </tr>\n",
       "    <tr>\n",
       "      <th>1</th>\n",
       "      <td>\\n1 bedroom apartment for sale in Westlands Area\\n</td>\n",
       "      <td>\\n\\n4Th Parklands Avenue, Westlands Area, Westlands\\n\\n</td>\n",
       "      <td>-</td>\n",
       "      <td>\\n1\\n</td>\n",
       "      <td>\\n\\n\\n\\n\\n\\n\\n\\n\\n1\\n\\n</td>\n",
       "      <td>\\nPRIMO PARK 1 &amp; 3 BED APARTMENTS IN PARKLANDS -...\\n</td>\n",
       "      <td>Primofort Investment</td>\n",
       "      <td>\\nKSh 8,000,000\\n</td>\n",
       "    </tr>\n",
       "    <tr>\n",
       "      <th>2</th>\n",
       "      <td>\\n2 bedroom apartment for sale in Kilimani\\n</td>\n",
       "      <td>\\n\\nOff kinadaruma road, Kilimani, Dagoretti North\\n\\n</td>\n",
       "      <td>\\n120 m²\\n</td>\n",
       "      <td>\\n2\\n</td>\n",
       "      <td>\\n\\n\\n\\n\\n\\n\\n\\n\\n3\\n\\n</td>\n",
       "      <td>\\n2 BEDROOMS APARTMENT FOR SALE IN KILIMANI\\n</td>\n",
       "      <td>Abode Realty</td>\n",
       "      <td>\\nKSh 11,000,000\\n</td>\n",
       "    </tr>\n",
       "    <tr>\n",
       "      <th>3</th>\n",
       "      <td>\\n3 bedroom apartment for sale in Kilimani\\n</td>\n",
       "      <td>\\n\\nKayahwe road, Kilimani, Dagoretti North\\n\\n</td>\n",
       "      <td>\\n120 m²\\n</td>\n",
       "      <td>\\n3\\n</td>\n",
       "      <td>\\n\\n\\n\\n\\n\\n\\n\\n\\n2\\n\\n</td>\n",
       "      <td>\\n3 BEDROOM APARTMENT FOR SALE IN KILIMANI\\n</td>\n",
       "      <td>Abode Realty</td>\n",
       "      <td>\\nKSh 10,500,000\\n</td>\n",
       "    </tr>\n",
       "    <tr>\n",
       "      <th>4</th>\n",
       "      <td>\\n2 bedroom apartment for sale in Kilimani\\n</td>\n",
       "      <td>\\n\\nKindaruma road, Kilimani, Dagoretti North\\n\\n</td>\n",
       "      <td>\\n100 m²\\n</td>\n",
       "      <td>\\n2\\n</td>\n",
       "      <td>\\n\\n\\n\\n\\n\\n\\n\\n\\n2\\n\\n</td>\n",
       "      <td>\\n2 bedroom apartment in kilimani\\n</td>\n",
       "      <td>Abode Realty</td>\n",
       "      <td>\\nKSh 7,500,000\\n</td>\n",
       "    </tr>\n",
       "  </tbody>\n",
       "</table>\n",
       "</div>"
      ],
      "text/plain": [
       "                                       property_title  \\\n",
       "0  \\n4 ac land for sale in Kilimani\\n                   \n",
       "1  \\n1 bedroom apartment for sale in Westlands Area\\n   \n",
       "2  \\n2 bedroom apartment for sale in Kilimani\\n         \n",
       "3  \\n3 bedroom apartment for sale in Kilimani\\n         \n",
       "4  \\n2 bedroom apartment for sale in Kilimani\\n         \n",
       "\n",
       "                                         property_location property_area  \\\n",
       "0  \\n\\nArgwing Kodhek, Kilimani, Dagoretti North\\n\\n        \\n4 ac\\n       \n",
       "1  \\n\\n4Th Parklands Avenue, Westlands Area, Westlands\\n\\n  -              \n",
       "2  \\n\\nOff kinadaruma road, Kilimani, Dagoretti North\\n\\n   \\n120 m²\\n     \n",
       "3  \\n\\nKayahwe road, Kilimani, Dagoretti North\\n\\n          \\n120 m²\\n     \n",
       "4  \\n\\nKindaruma road, Kilimani, Dagoretti North\\n\\n        \\n100 m²\\n     \n",
       "\n",
       "  property_bedrooms       property_bathrooms  \\\n",
       "0  -                 -                         \n",
       "1  \\n1\\n             \\n\\n\\n\\n\\n\\n\\n\\n\\n1\\n\\n   \n",
       "2  \\n2\\n             \\n\\n\\n\\n\\n\\n\\n\\n\\n3\\n\\n   \n",
       "3  \\n3\\n             \\n\\n\\n\\n\\n\\n\\n\\n\\n2\\n\\n   \n",
       "4  \\n2\\n             \\n\\n\\n\\n\\n\\n\\n\\n\\n2\\n\\n   \n",
       "\n",
       "                                    property_description  \\\n",
       "0  \\n4 ac land for Sale in Kilimani\\n                      \n",
       "1  \\nPRIMO PARK 1 & 3 BED APARTMENTS IN PARKLANDS -...\\n   \n",
       "2  \\n2 BEDROOMS APARTMENT FOR SALE IN KILIMANI\\n           \n",
       "3  \\n3 BEDROOM APARTMENT FOR SALE IN KILIMANI\\n            \n",
       "4  \\n2 bedroom apartment in kilimani\\n                     \n",
       "\n",
       "         property_agent         property_price  \n",
       "0  -                     \\nKSh 1,600,000,000\\n  \n",
       "1  Primofort Investment  \\nKSh 8,000,000\\n      \n",
       "2  Abode Realty          \\nKSh 11,000,000\\n     \n",
       "3  Abode Realty          \\nKSh 10,500,000\\n     \n",
       "4  Abode Realty          \\nKSh 7,500,000\\n      "
      ]
     },
     "execution_count": 3,
     "metadata": {},
     "output_type": "execute_result"
    }
   ],
   "source": [
    "data.head()"
   ]
  },
  {
   "cell_type": "code",
   "execution_count": 4,
   "id": "39ef66de",
   "metadata": {},
   "outputs": [],
   "source": [
    "#columns cleaning\n",
    "def column_cleaner(df,column):\n",
    "    df[column] =  df[column].map(lambda x: x.lstrip('\\n').rstrip('\\n').lstrip())\n",
    "    return df"
   ]
  },
  {
   "cell_type": "code",
   "execution_count": 5,
   "id": "3aaeb56a",
   "metadata": {},
   "outputs": [
    {
     "data": {
      "text/plain": [
       "Index(['property_title', 'property_location', 'property_area',\n",
       "       'property_bedrooms', 'property_bathrooms', 'property_description',\n",
       "       'property_agent', 'property_price'],\n",
       "      dtype='object')"
      ]
     },
     "execution_count": 5,
     "metadata": {},
     "output_type": "execute_result"
    }
   ],
   "source": [
    "data.columns"
   ]
  },
  {
   "cell_type": "code",
   "execution_count": 6,
   "id": "4f53ccbf",
   "metadata": {},
   "outputs": [],
   "source": [
    "col = ['property_title', 'property_location', 'property_area',\n",
    "       'property_bedrooms', 'property_bathrooms', 'property_description', 'property_price']\n",
    "\n",
    "for column in col :\n",
    "    data= column_cleaner(data,column)"
   ]
  },
  {
   "cell_type": "code",
   "execution_count": 7,
   "id": "ca518c58",
   "metadata": {},
   "outputs": [
    {
     "data": {
      "text/html": [
       "<div>\n",
       "<style scoped>\n",
       "    .dataframe tbody tr th:only-of-type {\n",
       "        vertical-align: middle;\n",
       "    }\n",
       "\n",
       "    .dataframe tbody tr th {\n",
       "        vertical-align: top;\n",
       "    }\n",
       "\n",
       "    .dataframe thead th {\n",
       "        text-align: right;\n",
       "    }\n",
       "</style>\n",
       "<table border=\"1\" class=\"dataframe\">\n",
       "  <thead>\n",
       "    <tr style=\"text-align: right;\">\n",
       "      <th></th>\n",
       "      <th>property_title</th>\n",
       "      <th>property_location</th>\n",
       "      <th>property_area</th>\n",
       "      <th>property_bedrooms</th>\n",
       "      <th>property_bathrooms</th>\n",
       "      <th>property_description</th>\n",
       "      <th>property_agent</th>\n",
       "      <th>property_price</th>\n",
       "    </tr>\n",
       "  </thead>\n",
       "  <tbody>\n",
       "    <tr>\n",
       "      <th>0</th>\n",
       "      <td>4 ac land for sale in Kilimani</td>\n",
       "      <td>Argwing Kodhek, Kilimani, Dagoretti North</td>\n",
       "      <td>4 ac</td>\n",
       "      <td>-</td>\n",
       "      <td>-</td>\n",
       "      <td>4 ac land for Sale in Kilimani</td>\n",
       "      <td>-</td>\n",
       "      <td>KSh 1,600,000,000</td>\n",
       "    </tr>\n",
       "    <tr>\n",
       "      <th>1</th>\n",
       "      <td>1 bedroom apartment for sale in Westlands Area</td>\n",
       "      <td>4Th Parklands Avenue, Westlands Area, Westlands</td>\n",
       "      <td>-</td>\n",
       "      <td>1</td>\n",
       "      <td>1</td>\n",
       "      <td>PRIMO PARK 1 &amp; 3 BED APARTMENTS IN PARKLANDS -...</td>\n",
       "      <td>Primofort Investment</td>\n",
       "      <td>KSh 8,000,000</td>\n",
       "    </tr>\n",
       "    <tr>\n",
       "      <th>2</th>\n",
       "      <td>2 bedroom apartment for sale in Kilimani</td>\n",
       "      <td>Off kinadaruma road, Kilimani, Dagoretti North</td>\n",
       "      <td>120 m²</td>\n",
       "      <td>2</td>\n",
       "      <td>3</td>\n",
       "      <td>2 BEDROOMS APARTMENT FOR SALE IN KILIMANI</td>\n",
       "      <td>Abode Realty</td>\n",
       "      <td>KSh 11,000,000</td>\n",
       "    </tr>\n",
       "    <tr>\n",
       "      <th>3</th>\n",
       "      <td>3 bedroom apartment for sale in Kilimani</td>\n",
       "      <td>Kayahwe road, Kilimani, Dagoretti North</td>\n",
       "      <td>120 m²</td>\n",
       "      <td>3</td>\n",
       "      <td>2</td>\n",
       "      <td>3 BEDROOM APARTMENT FOR SALE IN KILIMANI</td>\n",
       "      <td>Abode Realty</td>\n",
       "      <td>KSh 10,500,000</td>\n",
       "    </tr>\n",
       "    <tr>\n",
       "      <th>4</th>\n",
       "      <td>2 bedroom apartment for sale in Kilimani</td>\n",
       "      <td>Kindaruma road, Kilimani, Dagoretti North</td>\n",
       "      <td>100 m²</td>\n",
       "      <td>2</td>\n",
       "      <td>2</td>\n",
       "      <td>2 bedroom apartment in kilimani</td>\n",
       "      <td>Abode Realty</td>\n",
       "      <td>KSh 7,500,000</td>\n",
       "    </tr>\n",
       "  </tbody>\n",
       "</table>\n",
       "</div>"
      ],
      "text/plain": [
       "                                   property_title  \\\n",
       "0  4 ac land for sale in Kilimani                   \n",
       "1  1 bedroom apartment for sale in Westlands Area   \n",
       "2  2 bedroom apartment for sale in Kilimani         \n",
       "3  3 bedroom apartment for sale in Kilimani         \n",
       "4  2 bedroom apartment for sale in Kilimani         \n",
       "\n",
       "                                 property_location property_area  \\\n",
       "0  Argwing Kodhek, Kilimani, Dagoretti North        4 ac           \n",
       "1  4Th Parklands Avenue, Westlands Area, Westlands  -              \n",
       "2  Off kinadaruma road, Kilimani, Dagoretti North   120 m²         \n",
       "3  Kayahwe road, Kilimani, Dagoretti North          120 m²         \n",
       "4  Kindaruma road, Kilimani, Dagoretti North        100 m²         \n",
       "\n",
       "  property_bedrooms property_bathrooms  \\\n",
       "0  -                 -                   \n",
       "1  1                 1                   \n",
       "2  2                 3                   \n",
       "3  3                 2                   \n",
       "4  2                 2                   \n",
       "\n",
       "                                property_description        property_agent  \\\n",
       "0  4 ac land for Sale in Kilimani                     -                      \n",
       "1  PRIMO PARK 1 & 3 BED APARTMENTS IN PARKLANDS -...  Primofort Investment   \n",
       "2  2 BEDROOMS APARTMENT FOR SALE IN KILIMANI          Abode Realty           \n",
       "3  3 BEDROOM APARTMENT FOR SALE IN KILIMANI           Abode Realty           \n",
       "4  2 bedroom apartment in kilimani                    Abode Realty           \n",
       "\n",
       "      property_price  \n",
       "0  KSh 1,600,000,000  \n",
       "1  KSh 8,000,000      \n",
       "2  KSh 11,000,000     \n",
       "3  KSh 10,500,000     \n",
       "4  KSh 7,500,000      "
      ]
     },
     "execution_count": 7,
     "metadata": {},
     "output_type": "execute_result"
    }
   ],
   "source": [
    "data.head()"
   ]
  },
  {
   "cell_type": "code",
   "execution_count": 8,
   "id": "de80aa5c",
   "metadata": {},
   "outputs": [
    {
     "data": {
      "text/html": [
       "<div>\n",
       "<style scoped>\n",
       "    .dataframe tbody tr th:only-of-type {\n",
       "        vertical-align: middle;\n",
       "    }\n",
       "\n",
       "    .dataframe tbody tr th {\n",
       "        vertical-align: top;\n",
       "    }\n",
       "\n",
       "    .dataframe thead th {\n",
       "        text-align: right;\n",
       "    }\n",
       "</style>\n",
       "<table border=\"1\" class=\"dataframe\">\n",
       "  <thead>\n",
       "    <tr style=\"text-align: right;\">\n",
       "      <th></th>\n",
       "      <th>property_title</th>\n",
       "      <th>property_location</th>\n",
       "      <th>property_area</th>\n",
       "      <th>property_bedrooms</th>\n",
       "      <th>property_bathrooms</th>\n",
       "      <th>property_description</th>\n",
       "      <th>property_agent</th>\n",
       "      <th>property_price</th>\n",
       "      <th>property_price_currency</th>\n",
       "      <th>property_price_amount</th>\n",
       "    </tr>\n",
       "  </thead>\n",
       "  <tbody>\n",
       "    <tr>\n",
       "      <th>0</th>\n",
       "      <td>4 ac land for sale in Kilimani</td>\n",
       "      <td>Argwing Kodhek, Kilimani, Dagoretti North</td>\n",
       "      <td>4 ac</td>\n",
       "      <td>-</td>\n",
       "      <td>-</td>\n",
       "      <td>4 ac land for Sale in Kilimani</td>\n",
       "      <td>-</td>\n",
       "      <td>KSh 1,600,000,000</td>\n",
       "      <td>KSh</td>\n",
       "      <td>1600000000</td>\n",
       "    </tr>\n",
       "    <tr>\n",
       "      <th>1</th>\n",
       "      <td>1 bedroom apartment for sale in Westlands Area</td>\n",
       "      <td>4Th Parklands Avenue, Westlands Area, Westlands</td>\n",
       "      <td>-</td>\n",
       "      <td>1</td>\n",
       "      <td>1</td>\n",
       "      <td>PRIMO PARK 1 &amp; 3 BED APARTMENTS IN PARKLANDS -...</td>\n",
       "      <td>Primofort Investment</td>\n",
       "      <td>KSh 8,000,000</td>\n",
       "      <td>KSh</td>\n",
       "      <td>8000000</td>\n",
       "    </tr>\n",
       "    <tr>\n",
       "      <th>2</th>\n",
       "      <td>2 bedroom apartment for sale in Kilimani</td>\n",
       "      <td>Off kinadaruma road, Kilimani, Dagoretti North</td>\n",
       "      <td>120 m²</td>\n",
       "      <td>2</td>\n",
       "      <td>3</td>\n",
       "      <td>2 BEDROOMS APARTMENT FOR SALE IN KILIMANI</td>\n",
       "      <td>Abode Realty</td>\n",
       "      <td>KSh 11,000,000</td>\n",
       "      <td>KSh</td>\n",
       "      <td>11000000</td>\n",
       "    </tr>\n",
       "    <tr>\n",
       "      <th>3</th>\n",
       "      <td>3 bedroom apartment for sale in Kilimani</td>\n",
       "      <td>Kayahwe road, Kilimani, Dagoretti North</td>\n",
       "      <td>120 m²</td>\n",
       "      <td>3</td>\n",
       "      <td>2</td>\n",
       "      <td>3 BEDROOM APARTMENT FOR SALE IN KILIMANI</td>\n",
       "      <td>Abode Realty</td>\n",
       "      <td>KSh 10,500,000</td>\n",
       "      <td>KSh</td>\n",
       "      <td>10500000</td>\n",
       "    </tr>\n",
       "    <tr>\n",
       "      <th>4</th>\n",
       "      <td>2 bedroom apartment for sale in Kilimani</td>\n",
       "      <td>Kindaruma road, Kilimani, Dagoretti North</td>\n",
       "      <td>100 m²</td>\n",
       "      <td>2</td>\n",
       "      <td>2</td>\n",
       "      <td>2 bedroom apartment in kilimani</td>\n",
       "      <td>Abode Realty</td>\n",
       "      <td>KSh 7,500,000</td>\n",
       "      <td>KSh</td>\n",
       "      <td>7500000</td>\n",
       "    </tr>\n",
       "  </tbody>\n",
       "</table>\n",
       "</div>"
      ],
      "text/plain": [
       "                                   property_title  \\\n",
       "0  4 ac land for sale in Kilimani                   \n",
       "1  1 bedroom apartment for sale in Westlands Area   \n",
       "2  2 bedroom apartment for sale in Kilimani         \n",
       "3  3 bedroom apartment for sale in Kilimani         \n",
       "4  2 bedroom apartment for sale in Kilimani         \n",
       "\n",
       "                                 property_location property_area  \\\n",
       "0  Argwing Kodhek, Kilimani, Dagoretti North        4 ac           \n",
       "1  4Th Parklands Avenue, Westlands Area, Westlands  -              \n",
       "2  Off kinadaruma road, Kilimani, Dagoretti North   120 m²         \n",
       "3  Kayahwe road, Kilimani, Dagoretti North          120 m²         \n",
       "4  Kindaruma road, Kilimani, Dagoretti North        100 m²         \n",
       "\n",
       "  property_bedrooms property_bathrooms  \\\n",
       "0  -                 -                   \n",
       "1  1                 1                   \n",
       "2  2                 3                   \n",
       "3  3                 2                   \n",
       "4  2                 2                   \n",
       "\n",
       "                                property_description        property_agent  \\\n",
       "0  4 ac land for Sale in Kilimani                     -                      \n",
       "1  PRIMO PARK 1 & 3 BED APARTMENTS IN PARKLANDS -...  Primofort Investment   \n",
       "2  2 BEDROOMS APARTMENT FOR SALE IN KILIMANI          Abode Realty           \n",
       "3  3 BEDROOM APARTMENT FOR SALE IN KILIMANI           Abode Realty           \n",
       "4  2 bedroom apartment in kilimani                    Abode Realty           \n",
       "\n",
       "      property_price property_price_currency  property_price_amount  \n",
       "0  KSh 1,600,000,000  KSh                    1600000000              \n",
       "1  KSh 8,000,000      KSh                    8000000                 \n",
       "2  KSh 11,000,000     KSh                    11000000                \n",
       "3  KSh 10,500,000     KSh                    10500000                \n",
       "4  KSh 7,500,000      KSh                    7500000                 "
      ]
     },
     "execution_count": 8,
     "metadata": {},
     "output_type": "execute_result"
    }
   ],
   "source": [
    "#remove specific\n",
    "data['property_price_currency'] = data.property_price.str.split(' ').str[0]\n",
    "data['property_price_amount'] = data.property_price.str.split(' ').str[1]\n",
    "\n",
    "#convert amount to integers\n",
    "data['property_price_amount'] = data['property_price_amount'].str.replace(',', '')\n",
    "data['property_price_amount'] = data['property_price_amount'].str.replace('\\n', '').astype(float)\n",
    "data.head()"
   ]
  },
  {
   "cell_type": "code",
   "execution_count": 9,
   "id": "4c0d3d82",
   "metadata": {},
   "outputs": [
    {
     "data": {
      "text/plain": [
       "property_title             object \n",
       "property_location          object \n",
       "property_area              object \n",
       "property_bedrooms          object \n",
       "property_bathrooms         object \n",
       "property_description       object \n",
       "property_agent             object \n",
       "property_price             object \n",
       "property_price_currency    object \n",
       "property_price_amount      float64\n",
       "dtype: object"
      ]
     },
     "execution_count": 9,
     "metadata": {},
     "output_type": "execute_result"
    }
   ],
   "source": [
    "data.dtypes"
   ]
  },
  {
   "cell_type": "code",
   "execution_count": 10,
   "id": "d15695fe",
   "metadata": {},
   "outputs": [
    {
     "data": {
      "text/plain": [
       "(3707, 10)"
      ]
     },
     "execution_count": 10,
     "metadata": {},
     "output_type": "execute_result"
    }
   ],
   "source": [
    "#drop properties with price <1000\n",
    "data = data.loc[data['property_price_amount']>=1000]\n",
    "data.shape"
   ]
  },
  {
   "cell_type": "code",
   "execution_count": 11,
   "id": "54c25ce4",
   "metadata": {},
   "outputs": [
    {
     "data": {
      "text/html": [
       "<div>\n",
       "<style scoped>\n",
       "    .dataframe tbody tr th:only-of-type {\n",
       "        vertical-align: middle;\n",
       "    }\n",
       "\n",
       "    .dataframe tbody tr th {\n",
       "        vertical-align: top;\n",
       "    }\n",
       "\n",
       "    .dataframe thead th {\n",
       "        text-align: right;\n",
       "    }\n",
       "</style>\n",
       "<table border=\"1\" class=\"dataframe\">\n",
       "  <thead>\n",
       "    <tr style=\"text-align: right;\">\n",
       "      <th></th>\n",
       "      <th>property_agent</th>\n",
       "      <th>property_price_amount_count</th>\n",
       "      <th>property_price_amount_min</th>\n",
       "      <th>property_price_amount_max</th>\n",
       "      <th>property_price_amount_mean</th>\n",
       "    </tr>\n",
       "  </thead>\n",
       "  <tbody>\n",
       "    <tr>\n",
       "      <th>43</th>\n",
       "      <td>Coral Property International Ltd</td>\n",
       "      <td>143</td>\n",
       "      <td>5375</td>\n",
       "      <td>900000000</td>\n",
       "      <td>68987885</td>\n",
       "    </tr>\n",
       "    <tr>\n",
       "      <th>200</th>\n",
       "      <td>Splendor Holdings</td>\n",
       "      <td>134</td>\n",
       "      <td>3000000</td>\n",
       "      <td>350000000</td>\n",
       "      <td>40140299</td>\n",
       "    </tr>\n",
       "    <tr>\n",
       "      <th>148</th>\n",
       "      <td>Pam Golding Properties</td>\n",
       "      <td>119</td>\n",
       "      <td>8500000</td>\n",
       "      <td>650000000</td>\n",
       "      <td>66731792</td>\n",
       "    </tr>\n",
       "    <tr>\n",
       "      <th>45</th>\n",
       "      <td>Crystal Valuers LTD</td>\n",
       "      <td>93</td>\n",
       "      <td>8500</td>\n",
       "      <td>285000000</td>\n",
       "      <td>25192995</td>\n",
       "    </tr>\n",
       "    <tr>\n",
       "      <th>6</th>\n",
       "      <td>Abode Realty</td>\n",
       "      <td>80</td>\n",
       "      <td>3900000</td>\n",
       "      <td>100000000</td>\n",
       "      <td>16182375</td>\n",
       "    </tr>\n",
       "  </tbody>\n",
       "</table>\n",
       "</div>"
      ],
      "text/plain": [
       "                       property_agent  property_price_amount_count  \\\n",
       "43   Coral Property International Ltd  143                           \n",
       "200  Splendor Holdings                 134                           \n",
       "148  Pam Golding Properties            119                           \n",
       "45   Crystal Valuers LTD               93                            \n",
       "6    Abode Realty                      80                            \n",
       "\n",
       "     property_price_amount_min  property_price_amount_max  \\\n",
       "43  5375                       900000000                    \n",
       "200 3000000                    350000000                    \n",
       "148 8500000                    650000000                    \n",
       "45  8500                       285000000                    \n",
       "6   3900000                    100000000                    \n",
       "\n",
       "     property_price_amount_mean  \n",
       "43  68987885                     \n",
       "200 40140299                     \n",
       "148 66731792                     \n",
       "45  25192995                     \n",
       "6   16182375                     "
      ]
     },
     "execution_count": 11,
     "metadata": {},
     "output_type": "execute_result"
    }
   ],
   "source": [
    "# analysis of product distribution by agent\n",
    "agg_agent_df = data.groupby('property_agent').agg({'property_price_amount':['count','min','max','mean']})\n",
    "agg_agent_df.columns = ['_'.join(col).strip(' sum') for col in agg_agent_df.columns.values]\n",
    "agg_agent_df= agg_agent_df.reset_index()\n",
    "\n",
    "#drop row with missing agent name\n",
    "agg_agent_df = agg_agent_df.loc[agg_agent_df['property_agent']!= '-']\n",
    "\n",
    "#sorting the properties in descending order\n",
    "agg_agent_df = agg_agent_df.sort_values(by='property_price_amount_count', ascending = False)\n",
    "\n",
    "agg_agent_df.head()"
   ]
  },
  {
   "cell_type": "code",
   "execution_count": 14,
   "id": "6c487d81",
   "metadata": {},
   "outputs": [
    {
     "data": {
      "text/plain": [
       "<Figure size 1080x720 with 0 Axes>"
      ]
     },
     "execution_count": 14,
     "metadata": {},
     "output_type": "execute_result"
    },
    {
     "data": {
      "text/plain": [
       "Text(0.5, 1.0, 'Top 20 Property Agents in the Nairobi per No. of Properties listed on www.buyrent.com Kenya')"
      ]
     },
     "execution_count": 14,
     "metadata": {},
     "output_type": "execute_result"
    },
    {
     "data": {
      "text/plain": [
       "Text(0.5, 0, 'No. of Properties')"
      ]
     },
     "execution_count": 14,
     "metadata": {},
     "output_type": "execute_result"
    },
    {
     "data": {
      "text/plain": [
       "Text(0, 0.5, 'Agent')"
      ]
     },
     "execution_count": 14,
     "metadata": {},
     "output_type": "execute_result"
    },
    {
     "data": {
      "text/plain": [
       "[Text(0, 0, 'Coral Property International Ltd'),\n",
       " Text(0, 1, 'Splendor Holdings'),\n",
       " Text(0, 2, 'Pam Golding Properties'),\n",
       " Text(0, 3, 'Crystal Valuers LTD'),\n",
       " Text(0, 4, 'Abode Realty'),\n",
       " Text(0, 5, 'Simkar Group Limited'),\n",
       " Text(0, 6, 'Sir Francis Marketing & Consultants Ltd'),\n",
       " Text(0, 7, 'Sky Limits Ventures'),\n",
       " Text(0, 8, 'Tysons Limited'),\n",
       " Text(0, 9, 'Azizi Realtors'),\n",
       " Text(0, 10, 'Balis Properties'),\n",
       " Text(0, 11, 'A1 Properties Ltd'),\n",
       " Text(0, 12, 'Wilnas Property Ltd'),\n",
       " Text(0, 13, 'Kenya Classic Homes'),\n",
       " Text(0, 14, 'Olympia Gold Real Estate'),\n",
       " Text(0, 15, 'Afrique Properties Limited'),\n",
       " Text(0, 16, 'Ace Realtors Limited'),\n",
       " Text(0, 17, 'Canaan Properties'),\n",
       " Text(0, 18, 'Ring Kenya Ltd'),\n",
       " Text(0, 19, 'PMC Estates Limited')]"
      ]
     },
     "execution_count": 14,
     "metadata": {},
     "output_type": "execute_result"
    },
    {
     "data": {
      "text/plain": [
       "Text(5, 0, '143')"
      ]
     },
     "execution_count": 14,
     "metadata": {},
     "output_type": "execute_result"
    },
    {
     "data": {
      "text/plain": [
       "Text(5, 0, '134')"
      ]
     },
     "execution_count": 14,
     "metadata": {},
     "output_type": "execute_result"
    },
    {
     "data": {
      "text/plain": [
       "Text(5, 0, '119')"
      ]
     },
     "execution_count": 14,
     "metadata": {},
     "output_type": "execute_result"
    },
    {
     "data": {
      "text/plain": [
       "Text(5, 0, '93')"
      ]
     },
     "execution_count": 14,
     "metadata": {},
     "output_type": "execute_result"
    },
    {
     "data": {
      "text/plain": [
       "Text(5, 0, '80')"
      ]
     },
     "execution_count": 14,
     "metadata": {},
     "output_type": "execute_result"
    },
    {
     "data": {
      "text/plain": [
       "Text(5, 0, '79')"
      ]
     },
     "execution_count": 14,
     "metadata": {},
     "output_type": "execute_result"
    },
    {
     "data": {
      "text/plain": [
       "Text(5, 0, '73')"
      ]
     },
     "execution_count": 14,
     "metadata": {},
     "output_type": "execute_result"
    },
    {
     "data": {
      "text/plain": [
       "Text(5, 0, '66')"
      ]
     },
     "execution_count": 14,
     "metadata": {},
     "output_type": "execute_result"
    },
    {
     "data": {
      "text/plain": [
       "Text(5, 0, '62')"
      ]
     },
     "execution_count": 14,
     "metadata": {},
     "output_type": "execute_result"
    },
    {
     "data": {
      "text/plain": [
       "Text(5, 0, '57')"
      ]
     },
     "execution_count": 14,
     "metadata": {},
     "output_type": "execute_result"
    },
    {
     "data": {
      "text/plain": [
       "Text(5, 0, '57')"
      ]
     },
     "execution_count": 14,
     "metadata": {},
     "output_type": "execute_result"
    },
    {
     "data": {
      "text/plain": [
       "Text(5, 0, '55')"
      ]
     },
     "execution_count": 14,
     "metadata": {},
     "output_type": "execute_result"
    },
    {
     "data": {
      "text/plain": [
       "Text(5, 0, '53')"
      ]
     },
     "execution_count": 14,
     "metadata": {},
     "output_type": "execute_result"
    },
    {
     "data": {
      "text/plain": [
       "Text(5, 0, '51')"
      ]
     },
     "execution_count": 14,
     "metadata": {},
     "output_type": "execute_result"
    },
    {
     "data": {
      "text/plain": [
       "Text(5, 0, '49')"
      ]
     },
     "execution_count": 14,
     "metadata": {},
     "output_type": "execute_result"
    },
    {
     "data": {
      "text/plain": [
       "Text(5, 0, '42')"
      ]
     },
     "execution_count": 14,
     "metadata": {},
     "output_type": "execute_result"
    },
    {
     "data": {
      "text/plain": [
       "Text(5, 0, '41')"
      ]
     },
     "execution_count": 14,
     "metadata": {},
     "output_type": "execute_result"
    },
    {
     "data": {
      "text/plain": [
       "Text(5, 0, '41')"
      ]
     },
     "execution_count": 14,
     "metadata": {},
     "output_type": "execute_result"
    },
    {
     "data": {
      "text/plain": [
       "Text(5, 0, '38')"
      ]
     },
     "execution_count": 14,
     "metadata": {},
     "output_type": "execute_result"
    },
    {
     "data": {
      "text/plain": [
       "Text(5, 0, '38')"
      ]
     },
     "execution_count": 14,
     "metadata": {},
     "output_type": "execute_result"
    },
    {
     "data": {
      "image/png": "[encoded data removed]",
      "text/plain": [
       "<Figure size 1080x720 with 1 Axes>"
      ]
     },
     "metadata": {
      "needs_background": "light"
     },
     "output_type": "display_data"
    }
   ],
   "source": [
    "#top 20 agents\n",
    "agent_ = agg_agent_df.head(20)\n",
    "\n",
    "# Bring some raw data.\n",
    "frequencies = agent_['property_price_amount_count']\n",
    "\n",
    "# In my original code I create a series and run on that,\n",
    "# so for consistency I create a series from the list.\n",
    "#freq_series = pd.Series.from_array(frequencies)\n",
    "\n",
    "y_labels = agent_['property_agent']\n",
    "\n",
    "# Plot the figure.\n",
    "plt.figure(figsize=(15, 10))\n",
    "ax = frequencies.plot(kind='barh')\n",
    "ax.invert_yaxis()\n",
    "ax.set_title('Top 20 Property Agents in the Nairobi per No. of Properties listed on www.buyrent.com Kenya')\n",
    "ax.set_xlabel('No. of Properties')\n",
    "ax.set_ylabel('Agent')\n",
    "ax.set_yticklabels(y_labels)\n",
    "#ax.set_xlim(0, 300) # expand xlim to make labels easier to read\n",
    "\n",
    "rects = ax.patches\n",
    "\n",
    "# For each bar: Place a label\n",
    "for rect in rects:\n",
    "    # Get X and Y placement of label from rect.\n",
    "    x_value = rect.get_width()\n",
    "    y_value = rect.get_y() + rect.get_height() / 2\n",
    "    \n",
    "      # Number of points between bar and label. Change to your liking.\n",
    "    space = 5\n",
    "    # Vertical alignment for positive values\n",
    "    ha = 'left'\n",
    "\n",
    "    # If value of bar is negative: Place label left of bar\n",
    "    if x_value < 0:\n",
    "        # Invert space to place label to the left\n",
    "        space *= -1\n",
    "        # Horizontally align label at right\n",
    "        ha = 'right'\n",
    "\n",
    "    # Use X value as label and format number with one decimal place\n",
    "    label = \"{:.0f}\".format(x_value)\n",
    "\n",
    "    # Create annotation\n",
    "    plt.annotate(\n",
    "        label,                      # Use `label` as label\n",
    "        (x_value, y_value),         # Place label at end of the bar\n",
    "        xytext=(space, 0),          # Horizontally shift label by `space`\n",
    "        textcoords=\"offset points\", # Interpret `xytext` as offset in points\n",
    "        va='center',                # Vertically center label\n",
    "        ha=ha)                      # Horizontally align label differently for\n",
    "                                    # positive and negative values.\n",
    "\n",
    "plt.savefig(\"./data/agents_distribution.png\")"
   ]
  },
  {
   "cell_type": "code",
   "execution_count": 15,
   "id": "d8a52dfb",
   "metadata": {},
   "outputs": [
    {
     "data": {
      "text/plain": [
       "<Figure size 1080x720 with 0 Axes>"
      ]
     },
     "execution_count": 15,
     "metadata": {},
     "output_type": "execute_result"
    },
    {
     "data": {
      "text/plain": [
       "Text(0.5, 1.0, 'Top 20 Property Agents in the Nairobi per Average Price as listed on www.buyrent.com Kenya')"
      ]
     },
     "execution_count": 15,
     "metadata": {},
     "output_type": "execute_result"
    },
    {
     "data": {
      "text/plain": [
       "Text(0.5, 0, 'Avg. Property Prices')"
      ]
     },
     "execution_count": 15,
     "metadata": {},
     "output_type": "execute_result"
    },
    {
     "data": {
      "text/plain": [
       "Text(0, 0.5, 'Agent')"
      ]
     },
     "execution_count": 15,
     "metadata": {},
     "output_type": "execute_result"
    },
    {
     "data": {
      "text/plain": [
       "[Text(0, 0, 'LYNDUM ENTERPRISES'),\n",
       " Text(0, 1, 'Jafari Homes Limited'),\n",
       " Text(0, 2, 'Tidetwo Enterprises'),\n",
       " Text(0, 3, 'Badilisha Properties'),\n",
       " Text(0, 4, 'Property Zone East Africa'),\n",
       " Text(0, 5, 'HAMMOCK & PALMS AFRICA'),\n",
       " Text(0, 6, 'Jubilee Real Estate'),\n",
       " Text(0, 7, 'Apricot Property Solutions Limited'),\n",
       " Text(0, 8, 'Standard Shelters Limited'),\n",
       " Text(0, 9, 'Pinder Bassi'),\n",
       " Text(0, 10, 'Highmack Enterprises'),\n",
       " Text(0, 11, 'Mimshakh Dunamis Global Ltd'),\n",
       " Text(0, 12, 'Homefront Consult'),\n",
       " Text(0, 13, 'Eden Heights Realty'),\n",
       " Text(0, 14, 'Lyons Properties'),\n",
       " Text(0, 15, 'Riverdale Properties'),\n",
       " Text(0, 16, 'GerryVille Homes'),\n",
       " Text(0, 17, 'Henley Green Realty'),\n",
       " Text(0, 18, 'Newpoint Properties'),\n",
       " Text(0, 19, 'Fit Property')]"
      ]
     },
     "execution_count": 15,
     "metadata": {},
     "output_type": "execute_result"
    },
    {
     "data": {
      "text/plain": [
       "Text(5, 0, '357000000')"
      ]
     },
     "execution_count": 15,
     "metadata": {},
     "output_type": "execute_result"
    },
    {
     "data": {
      "text/plain": [
       "Text(5, 0, '320000000')"
      ]
     },
     "execution_count": 15,
     "metadata": {},
     "output_type": "execute_result"
    },
    {
     "data": {
      "text/plain": [
       "Text(5, 0, '317500000')"
      ]
     },
     "execution_count": 15,
     "metadata": {},
     "output_type": "execute_result"
    },
    {
     "data": {
      "text/plain": [
       "Text(5, 0, '273100000')"
      ]
     },
     "execution_count": 15,
     "metadata": {},
     "output_type": "execute_result"
    },
    {
     "data": {
      "text/plain": [
       "Text(5, 0, '272216667')"
      ]
     },
     "execution_count": 15,
     "metadata": {},
     "output_type": "execute_result"
    },
    {
     "data": {
      "text/plain": [
       "Text(5, 0, '230833333')"
      ]
     },
     "execution_count": 15,
     "metadata": {},
     "output_type": "execute_result"
    },
    {
     "data": {
      "text/plain": [
       "Text(5, 0, '224692308')"
      ]
     },
     "execution_count": 15,
     "metadata": {},
     "output_type": "execute_result"
    },
    {
     "data": {
      "text/plain": [
       "Text(5, 0, '223500000')"
      ]
     },
     "execution_count": 15,
     "metadata": {},
     "output_type": "execute_result"
    },
    {
     "data": {
      "text/plain": [
       "Text(5, 0, '222250000')"
      ]
     },
     "execution_count": 15,
     "metadata": {},
     "output_type": "execute_result"
    },
    {
     "data": {
      "text/plain": [
       "Text(5, 0, '200642857')"
      ]
     },
     "execution_count": 15,
     "metadata": {},
     "output_type": "execute_result"
    },
    {
     "data": {
      "text/plain": [
       "Text(5, 0, '196000000')"
      ]
     },
     "execution_count": 15,
     "metadata": {},
     "output_type": "execute_result"
    },
    {
     "data": {
      "text/plain": [
       "Text(5, 0, '177500000')"
      ]
     },
     "execution_count": 15,
     "metadata": {},
     "output_type": "execute_result"
    },
    {
     "data": {
      "text/plain": [
       "Text(5, 0, '160000000')"
      ]
     },
     "execution_count": 15,
     "metadata": {},
     "output_type": "execute_result"
    },
    {
     "data": {
      "text/plain": [
       "Text(5, 0, '156700000')"
      ]
     },
     "execution_count": 15,
     "metadata": {},
     "output_type": "execute_result"
    },
    {
     "data": {
      "text/plain": [
       "Text(5, 0, '148300000')"
      ]
     },
     "execution_count": 15,
     "metadata": {},
     "output_type": "execute_result"
    },
    {
     "data": {
      "text/plain": [
       "Text(5, 0, '147500000')"
      ]
     },
     "execution_count": 15,
     "metadata": {},
     "output_type": "execute_result"
    },
    {
     "data": {
      "text/plain": [
       "Text(5, 0, '145426667')"
      ]
     },
     "execution_count": 15,
     "metadata": {},
     "output_type": "execute_result"
    },
    {
     "data": {
      "text/plain": [
       "Text(5, 0, '143500000')"
      ]
     },
     "execution_count": 15,
     "metadata": {},
     "output_type": "execute_result"
    },
    {
     "data": {
      "text/plain": [
       "Text(5, 0, '132571429')"
      ]
     },
     "execution_count": 15,
     "metadata": {},
     "output_type": "execute_result"
    },
    {
     "data": {
      "text/plain": [
       "Text(5, 0, '132111111')"
      ]
     },
     "execution_count": 15,
     "metadata": {},
     "output_type": "execute_result"
    },
    {
     "data": {
      "image/png": "[encoded data removed]",
      "text/plain": [
       "<Figure size 1080x720 with 1 Axes>"
      ]
     },
     "metadata": {
      "needs_background": "light"
     },
     "output_type": "display_data"
    }
   ],
   "source": [
    "#sorting the properties in descending order\n",
    "agg_agent_df = agg_agent_df.sort_values(by='property_price_amount_mean', ascending = False)\n",
    "\n",
    "#top 20 agents\n",
    "agent_ = agg_agent_df.head(20)\n",
    "\n",
    "# Bring some raw data.\n",
    "frequencies = agent_['property_price_amount_mean']\n",
    "\n",
    "# In my original code I create a series and run on that,\n",
    "# so for consistency I create a series from the list.\n",
    "#freq_series = pd.Series.from_array(frequencies)\n",
    "\n",
    "y_labels = agent_['property_agent']\n",
    "\n",
    "# Plot the figure.\n",
    "plt.figure(figsize=(15, 10))\n",
    "ax = frequencies.plot(kind='barh')\n",
    "ax.invert_yaxis()\n",
    "ax.set_title('Top 20 Property Agents in the Nairobi per Average Price as listed on www.buyrent.com Kenya')\n",
    "ax.set_xlabel('Avg. Property Prices')\n",
    "ax.set_ylabel('Agent')\n",
    "ax.set_yticklabels(y_labels)\n",
    "#ax.set_xlim(0, 300) # expand xlim to make labels easier to read\n",
    "\n",
    "rects = ax.patches\n",
    "\n",
    "# For each bar: Place a label\n",
    "for rect in rects:\n",
    "    # Get X and Y placement of label from rect.\n",
    "    x_value = rect.get_width()\n",
    "    y_value = rect.get_y() + rect.get_height() / 2\n",
    "    \n",
    "      # Number of points between bar and label. Change to your liking.\n",
    "    space = 5\n",
    "    # Vertical alignment for positive values\n",
    "    ha = 'left'\n",
    "\n",
    "    # If value of bar is negative: Place label left of bar\n",
    "    if x_value < 0:\n",
    "        # Invert space to place label to the left\n",
    "        space *= -1\n",
    "        # Horizontally align label at right\n",
    "        ha = 'right'\n",
    "\n",
    "    # Use X value as label and format number with one decimal place\n",
    "    label = \"{:.0f}\".format(x_value)\n",
    "\n",
    "    # Create annotation\n",
    "    plt.annotate(\n",
    "        label,                      # Use `label` as label\n",
    "        (x_value, y_value),         # Place label at end of the bar\n",
    "        xytext=(space, 0),          # Horizontally shift label by `space`\n",
    "        textcoords=\"offset points\", # Interpret `xytext` as offset in points\n",
    "        va='center',                # Vertically center label\n",
    "        ha=ha)                      # Horizontally align label differently for\n",
    "                                    # positive and negative values.\n",
    "\n",
    "plt.savefig(\"./data/agents_distribution_per_avg_price.png\")"
   ]
  },
  {
   "cell_type": "code",
   "execution_count": null,
   "id": "8aebe27f",
   "metadata": {},
   "outputs": [],
   "source": []
  }
 ],
 "metadata": {
  "kernelspec": {
   "display_name": "Python 3 (ipykernel)",
   "language": "python",
   "name": "python3"
  },
  "language_info": {
   "codemirror_mode": {
    "name": "ipython",
    "version": 3
   },
   "file_extension": ".py",
   "mimetype": "text/x-python",
   "name": "python",
   "nbconvert_exporter": "python",
   "pygments_lexer": "ipython3",
   "version": "3.8.11"
  }
 },
 "nbformat": 4,
 "nbformat_minor": 5
}
