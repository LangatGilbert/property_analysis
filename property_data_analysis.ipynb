{
 "cells": [
  {
   "cell_type": "code",
   "execution_count": 1,
   "id": "3bb509d2",
   "metadata": {},
   "outputs": [],
   "source": [
    "import warnings\n",
    "warnings.filterwarnings('ignore')\n",
    "\n",
    "import pandas as pd\n",
    "import numpy as np\n",
    "pd.options.display.float_format = \"{:.0f}\".format\n",
    "\n",
    "# to print out all the outputs\n",
    "from IPython.core.interactiveshell import InteractiveShell\n",
    "InteractiveShell.ast_node_interactivity = \"all\"\n",
    "# set display options\n",
    "pd.set_option('display.max_columns', None)\n",
    "pd.set_option('display.max_rows', None)\n",
    "pd.set_option('display.max_colwidth', -1)\n",
    "\n",
    "import matplotlib.pylab as plt\n",
    "%matplotlib inline\n",
    "import seaborn as sns\n",
    "\n",
    "import plotly.express as px"
   ]
  },
  {
   "cell_type": "code",
   "execution_count": 2,
   "id": "f07bc957",
   "metadata": {},
   "outputs": [
    {
     "data": {
      "text/plain": [
       "'C:\\\\Users\\\\hp\\\\Documents\\\\property_analysis'"
      ]
     },
     "execution_count": 2,
     "metadata": {},
     "output_type": "execute_result"
    }
   ],
   "source": [
    "import os\n",
    "os.getcwd()"
   ]
  },
  {
   "cell_type": "code",
   "execution_count": 3,
   "id": "807ba107",
   "metadata": {},
   "outputs": [],
   "source": [
    "data = pd.read_csv(\"./data/buyrent_properties_2021.11.01.csv\")"
   ]
  },
  {
   "cell_type": "code",
   "execution_count": 4,
   "id": "403ed9b9",
   "metadata": {},
   "outputs": [
    {
     "data": {
      "text/html": [
       "<div>\n",
       "<style scoped>\n",
       "    .dataframe tbody tr th:only-of-type {\n",
       "        vertical-align: middle;\n",
       "    }\n",
       "\n",
       "    .dataframe tbody tr th {\n",
       "        vertical-align: top;\n",
       "    }\n",
       "\n",
       "    .dataframe thead th {\n",
       "        text-align: right;\n",
       "    }\n",
       "</style>\n",
       "<table border=\"1\" class=\"dataframe\">\n",
       "  <thead>\n",
       "    <tr style=\"text-align: right;\">\n",
       "      <th></th>\n",
       "      <th>property_title</th>\n",
       "      <th>property_location</th>\n",
       "      <th>property_area</th>\n",
       "      <th>property_bedrooms</th>\n",
       "      <th>property_bathrooms</th>\n",
       "      <th>property_description</th>\n",
       "      <th>property_agent</th>\n",
       "      <th>property_price</th>\n",
       "    </tr>\n",
       "  </thead>\n",
       "  <tbody>\n",
       "    <tr>\n",
       "      <th>0</th>\n",
       "      <td>\\n4 ac land for sale in Kilimani\\n</td>\n",
       "      <td>\\n\\nArgwings kodhek, Kilimani, Dagoretti North\\n\\n</td>\n",
       "      <td>\\n4 ac\\n</td>\n",
       "      <td>-</td>\n",
       "      <td>-</td>\n",
       "      <td>\\n4 ac land for sale in Kilimani\\n</td>\n",
       "      <td>-</td>\n",
       "      <td>\\nKSh 1,600,000,000\\n</td>\n",
       "    </tr>\n",
       "    <tr>\n",
       "      <th>1</th>\n",
       "      <td>\\n4 bedroom apartment for sale in Lavington\\n</td>\n",
       "      <td>\\n\\nLavington, Dagoretti North\\n\\n</td>\n",
       "      <td>-</td>\n",
       "      <td>\\n3\\n</td>\n",
       "      <td>\\n\\n\\n\\n\\n\\n\\n\\n\\n4\\n\\n</td>\n",
       "      <td>\\n3 bedroom + DSQ apartment for sale in Lavington\\n</td>\n",
       "      <td>Upper Deck Homes</td>\n",
       "      <td>\\nKSh 19,000,000\\n</td>\n",
       "    </tr>\n",
       "    <tr>\n",
       "      <th>2</th>\n",
       "      <td>\\n4 bedroom apartment for sale in Lavington\\n</td>\n",
       "      <td>\\n\\nLavington, Dagoretti North\\n\\n</td>\n",
       "      <td>-</td>\n",
       "      <td>\\n4\\n</td>\n",
       "      <td>\\n\\n\\n\\n\\n\\n\\n\\n\\n5\\n\\n</td>\n",
       "      <td>\\n4 bedroom plus sq apartment for sale in lavingt...\\n</td>\n",
       "      <td>Sarabi Realty Group</td>\n",
       "      <td>\\nKSh 17,000,000\\n</td>\n",
       "    </tr>\n",
       "    <tr>\n",
       "      <th>3</th>\n",
       "      <td>\\n2 bedroom apartment for sale in Kilimani\\n</td>\n",
       "      <td>\\n\\nKILIMANI, KILIMANI, Kilimani, Dagoretti North\\n\\n</td>\n",
       "      <td>\\n108 m²\\n</td>\n",
       "      <td>\\n2\\n</td>\n",
       "      <td>\\n\\n\\n\\n\\n\\n\\n\\n\\n2\\n\\n</td>\n",
       "      <td>\\nMODERN AND AFFORDABLE 2 BEDROOM FOR SALE\\n</td>\n",
       "      <td>Round The Clock Homes</td>\n",
       "      <td>\\nKSh 8,800,000\\n</td>\n",
       "    </tr>\n",
       "    <tr>\n",
       "      <th>4</th>\n",
       "      <td>\\n3 bedroom apartment for sale in Rhapta Road\\n</td>\n",
       "      <td>\\n\\nRhapta Road, Westlands\\n\\n</td>\n",
       "      <td>-</td>\n",
       "      <td>\\n3\\n</td>\n",
       "      <td>\\n\\n\\n\\n\\n\\n\\n\\n\\n4\\n\\n</td>\n",
       "      <td>\\nRhapta Road 3 bedroom apartment for sale at 16....\\n</td>\n",
       "      <td>Phillavilla</td>\n",
       "      <td>\\n KSh 16,500,000\\n</td>\n",
       "    </tr>\n",
       "  </tbody>\n",
       "</table>\n",
       "</div>"
      ],
      "text/plain": [
       "                                    property_title  \\\n",
       "0  \\n4 ac land for sale in Kilimani\\n                \n",
       "1  \\n4 bedroom apartment for sale in Lavington\\n     \n",
       "2  \\n4 bedroom apartment for sale in Lavington\\n     \n",
       "3  \\n2 bedroom apartment for sale in Kilimani\\n      \n",
       "4  \\n3 bedroom apartment for sale in Rhapta Road\\n   \n",
       "\n",
       "                                       property_location property_area  \\\n",
       "0  \\n\\nArgwings kodhek, Kilimani, Dagoretti North\\n\\n     \\n4 ac\\n       \n",
       "1  \\n\\nLavington, Dagoretti North\\n\\n                     -              \n",
       "2  \\n\\nLavington, Dagoretti North\\n\\n                     -              \n",
       "3  \\n\\nKILIMANI, KILIMANI, Kilimani, Dagoretti North\\n\\n  \\n108 m²\\n     \n",
       "4  \\n\\nRhapta Road, Westlands\\n\\n                         -              \n",
       "\n",
       "  property_bedrooms       property_bathrooms  \\\n",
       "0  -                 -                         \n",
       "1  \\n3\\n             \\n\\n\\n\\n\\n\\n\\n\\n\\n4\\n\\n   \n",
       "2  \\n4\\n             \\n\\n\\n\\n\\n\\n\\n\\n\\n5\\n\\n   \n",
       "3  \\n2\\n             \\n\\n\\n\\n\\n\\n\\n\\n\\n2\\n\\n   \n",
       "4  \\n3\\n             \\n\\n\\n\\n\\n\\n\\n\\n\\n4\\n\\n   \n",
       "\n",
       "                                     property_description  \\\n",
       "0  \\n4 ac land for sale in Kilimani\\n                       \n",
       "1  \\n3 bedroom + DSQ apartment for sale in Lavington\\n      \n",
       "2  \\n4 bedroom plus sq apartment for sale in lavingt...\\n   \n",
       "3  \\nMODERN AND AFFORDABLE 2 BEDROOM FOR SALE\\n             \n",
       "4  \\nRhapta Road 3 bedroom apartment for sale at 16....\\n   \n",
       "\n",
       "          property_agent         property_price  \n",
       "0  -                      \\nKSh 1,600,000,000\\n  \n",
       "1  Upper Deck Homes       \\nKSh 19,000,000\\n     \n",
       "2  Sarabi Realty Group    \\nKSh 17,000,000\\n     \n",
       "3  Round The Clock Homes  \\nKSh 8,800,000\\n      \n",
       "4  Phillavilla            \\n KSh 16,500,000\\n    "
      ]
     },
     "execution_count": 4,
     "metadata": {},
     "output_type": "execute_result"
    }
   ],
   "source": [
    "data.head()"
   ]
  },
  {
   "cell_type": "code",
   "execution_count": 5,
   "id": "8842c763",
   "metadata": {},
   "outputs": [],
   "source": [
    "#columns cleaning\n",
    "def column_cleaner(df,column):\n",
    "    df[column] =  df[column].map(lambda x: x.lstrip('\\n').rstrip('\\n').lstrip())\n",
    "    return df"
   ]
  },
  {
   "cell_type": "code",
   "execution_count": 6,
   "id": "6ab54780",
   "metadata": {},
   "outputs": [
    {
     "data": {
      "text/plain": [
       "Index(['property_title', 'property_location', 'property_area',\n",
       "       'property_bedrooms', 'property_bathrooms', 'property_description',\n",
       "       'property_agent', 'property_price'],\n",
       "      dtype='object')"
      ]
     },
     "execution_count": 6,
     "metadata": {},
     "output_type": "execute_result"
    }
   ],
   "source": [
    "data.columns"
   ]
  },
  {
   "cell_type": "code",
   "execution_count": 7,
   "id": "34b84574",
   "metadata": {},
   "outputs": [],
   "source": [
    "col = ['property_title', 'property_location', 'property_area',\n",
    "       'property_bedrooms', 'property_bathrooms', 'property_description', 'property_price']\n",
    "\n",
    "for column in col :\n",
    "    data= column_cleaner(data,column)"
   ]
  },
  {
   "cell_type": "code",
   "execution_count": 8,
   "id": "9c60a864",
   "metadata": {},
   "outputs": [
    {
     "data": {
      "text/html": [
       "<div>\n",
       "<style scoped>\n",
       "    .dataframe tbody tr th:only-of-type {\n",
       "        vertical-align: middle;\n",
       "    }\n",
       "\n",
       "    .dataframe tbody tr th {\n",
       "        vertical-align: top;\n",
       "    }\n",
       "\n",
       "    .dataframe thead th {\n",
       "        text-align: right;\n",
       "    }\n",
       "</style>\n",
       "<table border=\"1\" class=\"dataframe\">\n",
       "  <thead>\n",
       "    <tr style=\"text-align: right;\">\n",
       "      <th></th>\n",
       "      <th>property_title</th>\n",
       "      <th>property_location</th>\n",
       "      <th>property_area</th>\n",
       "      <th>property_bedrooms</th>\n",
       "      <th>property_bathrooms</th>\n",
       "      <th>property_description</th>\n",
       "      <th>property_agent</th>\n",
       "      <th>property_price</th>\n",
       "    </tr>\n",
       "  </thead>\n",
       "  <tbody>\n",
       "    <tr>\n",
       "      <th>0</th>\n",
       "      <td>4 ac land for sale in Kilimani</td>\n",
       "      <td>Argwings kodhek, Kilimani, Dagoretti North</td>\n",
       "      <td>4 ac</td>\n",
       "      <td>-</td>\n",
       "      <td>-</td>\n",
       "      <td>4 ac land for sale in Kilimani</td>\n",
       "      <td>-</td>\n",
       "      <td>KSh 1,600,000,000</td>\n",
       "    </tr>\n",
       "    <tr>\n",
       "      <th>1</th>\n",
       "      <td>4 bedroom apartment for sale in Lavington</td>\n",
       "      <td>Lavington, Dagoretti North</td>\n",
       "      <td>-</td>\n",
       "      <td>3</td>\n",
       "      <td>4</td>\n",
       "      <td>3 bedroom + DSQ apartment for sale in Lavington</td>\n",
       "      <td>Upper Deck Homes</td>\n",
       "      <td>KSh 19,000,000</td>\n",
       "    </tr>\n",
       "    <tr>\n",
       "      <th>2</th>\n",
       "      <td>4 bedroom apartment for sale in Lavington</td>\n",
       "      <td>Lavington, Dagoretti North</td>\n",
       "      <td>-</td>\n",
       "      <td>4</td>\n",
       "      <td>5</td>\n",
       "      <td>4 bedroom plus sq apartment for sale in lavingt...</td>\n",
       "      <td>Sarabi Realty Group</td>\n",
       "      <td>KSh 17,000,000</td>\n",
       "    </tr>\n",
       "    <tr>\n",
       "      <th>3</th>\n",
       "      <td>2 bedroom apartment for sale in Kilimani</td>\n",
       "      <td>KILIMANI, KILIMANI, Kilimani, Dagoretti North</td>\n",
       "      <td>108 m²</td>\n",
       "      <td>2</td>\n",
       "      <td>2</td>\n",
       "      <td>MODERN AND AFFORDABLE 2 BEDROOM FOR SALE</td>\n",
       "      <td>Round The Clock Homes</td>\n",
       "      <td>KSh 8,800,000</td>\n",
       "    </tr>\n",
       "    <tr>\n",
       "      <th>4</th>\n",
       "      <td>3 bedroom apartment for sale in Rhapta Road</td>\n",
       "      <td>Rhapta Road, Westlands</td>\n",
       "      <td>-</td>\n",
       "      <td>3</td>\n",
       "      <td>4</td>\n",
       "      <td>Rhapta Road 3 bedroom apartment for sale at 16....</td>\n",
       "      <td>Phillavilla</td>\n",
       "      <td>KSh 16,500,000</td>\n",
       "    </tr>\n",
       "  </tbody>\n",
       "</table>\n",
       "</div>"
      ],
      "text/plain": [
       "                                property_title  \\\n",
       "0  4 ac land for sale in Kilimani                \n",
       "1  4 bedroom apartment for sale in Lavington     \n",
       "2  4 bedroom apartment for sale in Lavington     \n",
       "3  2 bedroom apartment for sale in Kilimani      \n",
       "4  3 bedroom apartment for sale in Rhapta Road   \n",
       "\n",
       "                               property_location property_area  \\\n",
       "0  Argwings kodhek, Kilimani, Dagoretti North     4 ac           \n",
       "1  Lavington, Dagoretti North                     -              \n",
       "2  Lavington, Dagoretti North                     -              \n",
       "3  KILIMANI, KILIMANI, Kilimani, Dagoretti North  108 m²         \n",
       "4  Rhapta Road, Westlands                         -              \n",
       "\n",
       "  property_bedrooms property_bathrooms  \\\n",
       "0  -                 -                   \n",
       "1  3                 4                   \n",
       "2  4                 5                   \n",
       "3  2                 2                   \n",
       "4  3                 4                   \n",
       "\n",
       "                                 property_description         property_agent  \\\n",
       "0  4 ac land for sale in Kilimani                      -                       \n",
       "1  3 bedroom + DSQ apartment for sale in Lavington     Upper Deck Homes        \n",
       "2  4 bedroom plus sq apartment for sale in lavingt...  Sarabi Realty Group     \n",
       "3  MODERN AND AFFORDABLE 2 BEDROOM FOR SALE            Round The Clock Homes   \n",
       "4  Rhapta Road 3 bedroom apartment for sale at 16....  Phillavilla             \n",
       "\n",
       "      property_price  \n",
       "0  KSh 1,600,000,000  \n",
       "1  KSh 19,000,000     \n",
       "2  KSh 17,000,000     \n",
       "3  KSh 8,800,000      \n",
       "4  KSh 16,500,000     "
      ]
     },
     "execution_count": 8,
     "metadata": {},
     "output_type": "execute_result"
    }
   ],
   "source": [
    "data.head()"
   ]
  },
  {
   "cell_type": "code",
   "execution_count": 9,
   "id": "fdd54679",
   "metadata": {},
   "outputs": [
    {
     "data": {
      "text/html": [
       "<div>\n",
       "<style scoped>\n",
       "    .dataframe tbody tr th:only-of-type {\n",
       "        vertical-align: middle;\n",
       "    }\n",
       "\n",
       "    .dataframe tbody tr th {\n",
       "        vertical-align: top;\n",
       "    }\n",
       "\n",
       "    .dataframe thead th {\n",
       "        text-align: right;\n",
       "    }\n",
       "</style>\n",
       "<table border=\"1\" class=\"dataframe\">\n",
       "  <thead>\n",
       "    <tr style=\"text-align: right;\">\n",
       "      <th></th>\n",
       "      <th>property_title</th>\n",
       "      <th>property_location</th>\n",
       "      <th>property_area</th>\n",
       "      <th>property_bedrooms</th>\n",
       "      <th>property_bathrooms</th>\n",
       "      <th>property_description</th>\n",
       "      <th>property_agent</th>\n",
       "      <th>property_price</th>\n",
       "      <th>property_price_currency</th>\n",
       "      <th>property_price_amount</th>\n",
       "    </tr>\n",
       "  </thead>\n",
       "  <tbody>\n",
       "    <tr>\n",
       "      <th>0</th>\n",
       "      <td>4 ac land for sale in Kilimani</td>\n",
       "      <td>Argwings kodhek, Kilimani, Dagoretti North</td>\n",
       "      <td>4 ac</td>\n",
       "      <td>-</td>\n",
       "      <td>-</td>\n",
       "      <td>4 ac land for sale in Kilimani</td>\n",
       "      <td>-</td>\n",
       "      <td>KSh 1,600,000,000</td>\n",
       "      <td>KSh</td>\n",
       "      <td>1600000000</td>\n",
       "    </tr>\n",
       "    <tr>\n",
       "      <th>1</th>\n",
       "      <td>4 bedroom apartment for sale in Lavington</td>\n",
       "      <td>Lavington, Dagoretti North</td>\n",
       "      <td>-</td>\n",
       "      <td>3</td>\n",
       "      <td>4</td>\n",
       "      <td>3 bedroom + DSQ apartment for sale in Lavington</td>\n",
       "      <td>Upper Deck Homes</td>\n",
       "      <td>KSh 19,000,000</td>\n",
       "      <td>KSh</td>\n",
       "      <td>19000000</td>\n",
       "    </tr>\n",
       "    <tr>\n",
       "      <th>2</th>\n",
       "      <td>4 bedroom apartment for sale in Lavington</td>\n",
       "      <td>Lavington, Dagoretti North</td>\n",
       "      <td>-</td>\n",
       "      <td>4</td>\n",
       "      <td>5</td>\n",
       "      <td>4 bedroom plus sq apartment for sale in lavingt...</td>\n",
       "      <td>Sarabi Realty Group</td>\n",
       "      <td>KSh 17,000,000</td>\n",
       "      <td>KSh</td>\n",
       "      <td>17000000</td>\n",
       "    </tr>\n",
       "    <tr>\n",
       "      <th>3</th>\n",
       "      <td>2 bedroom apartment for sale in Kilimani</td>\n",
       "      <td>KILIMANI, KILIMANI, Kilimani, Dagoretti North</td>\n",
       "      <td>108 m²</td>\n",
       "      <td>2</td>\n",
       "      <td>2</td>\n",
       "      <td>MODERN AND AFFORDABLE 2 BEDROOM FOR SALE</td>\n",
       "      <td>Round The Clock Homes</td>\n",
       "      <td>KSh 8,800,000</td>\n",
       "      <td>KSh</td>\n",
       "      <td>8800000</td>\n",
       "    </tr>\n",
       "    <tr>\n",
       "      <th>4</th>\n",
       "      <td>3 bedroom apartment for sale in Rhapta Road</td>\n",
       "      <td>Rhapta Road, Westlands</td>\n",
       "      <td>-</td>\n",
       "      <td>3</td>\n",
       "      <td>4</td>\n",
       "      <td>Rhapta Road 3 bedroom apartment for sale at 16....</td>\n",
       "      <td>Phillavilla</td>\n",
       "      <td>KSh 16,500,000</td>\n",
       "      <td>KSh</td>\n",
       "      <td>16500000</td>\n",
       "    </tr>\n",
       "  </tbody>\n",
       "</table>\n",
       "</div>"
      ],
      "text/plain": [
       "                                property_title  \\\n",
       "0  4 ac land for sale in Kilimani                \n",
       "1  4 bedroom apartment for sale in Lavington     \n",
       "2  4 bedroom apartment for sale in Lavington     \n",
       "3  2 bedroom apartment for sale in Kilimani      \n",
       "4  3 bedroom apartment for sale in Rhapta Road   \n",
       "\n",
       "                               property_location property_area  \\\n",
       "0  Argwings kodhek, Kilimani, Dagoretti North     4 ac           \n",
       "1  Lavington, Dagoretti North                     -              \n",
       "2  Lavington, Dagoretti North                     -              \n",
       "3  KILIMANI, KILIMANI, Kilimani, Dagoretti North  108 m²         \n",
       "4  Rhapta Road, Westlands                         -              \n",
       "\n",
       "  property_bedrooms property_bathrooms  \\\n",
       "0  -                 -                   \n",
       "1  3                 4                   \n",
       "2  4                 5                   \n",
       "3  2                 2                   \n",
       "4  3                 4                   \n",
       "\n",
       "                                 property_description         property_agent  \\\n",
       "0  4 ac land for sale in Kilimani                      -                       \n",
       "1  3 bedroom + DSQ apartment for sale in Lavington     Upper Deck Homes        \n",
       "2  4 bedroom plus sq apartment for sale in lavingt...  Sarabi Realty Group     \n",
       "3  MODERN AND AFFORDABLE 2 BEDROOM FOR SALE            Round The Clock Homes   \n",
       "4  Rhapta Road 3 bedroom apartment for sale at 16....  Phillavilla             \n",
       "\n",
       "      property_price property_price_currency  property_price_amount  \n",
       "0  KSh 1,600,000,000  KSh                    1600000000              \n",
       "1  KSh 19,000,000     KSh                    19000000                \n",
       "2  KSh 17,000,000     KSh                    17000000                \n",
       "3  KSh 8,800,000      KSh                    8800000                 \n",
       "4  KSh 16,500,000     KSh                    16500000                "
      ]
     },
     "execution_count": 9,
     "metadata": {},
     "output_type": "execute_result"
    }
   ],
   "source": [
    "#remove specific\n",
    "data['property_price_currency'] = data.property_price.str.split(' ').str[0]\n",
    "data['property_price_amount'] = data.property_price.str.split(' ').str[1]\n",
    "\n",
    "#convert amount to integers\n",
    "data['property_price_amount'] = data['property_price_amount'].str.replace(',', '')\n",
    "data['property_price_amount'] = data['property_price_amount'].str.replace('\\n', '').astype(float)\n",
    "data.head()"
   ]
  },
  {
   "cell_type": "code",
   "execution_count": 10,
   "id": "d4032134",
   "metadata": {},
   "outputs": [],
   "source": [
    "# derive property type\n",
    "#group the transactions\n",
    "property_group = []\n",
    "for row in data.itertuples():\n",
    "    if 'land' in row.property_title:\n",
    "        property_group.append('Land')\n",
    "        \n",
    "    elif 'commercial property' in row.property_title:\n",
    "        property_group.append('Commercial Property')\n",
    "\n",
    "    elif 'office' in row.property_title:\n",
    "        property_group.append('Office')\n",
    "   \n",
    "    elif 'warehouse' in row.property_title:\n",
    "        property_group.append('Warehouse')\n",
    "    \n",
    "    elif '1 bedroom apartment' in row.property_title:\n",
    "        property_group.append('1 Bedroom Apartment')\n",
    "        \n",
    "    elif '1 bedroom house' in row.property_title:\n",
    "        property_group.append('1 Bedroom House')\n",
    "        \n",
    "    elif '2 bedroom apartment' in row.property_title:\n",
    "        property_group.append('2 Bedroom Apartment')\n",
    "        \n",
    "    elif ' 2 bedroom house' in row.property_title:\n",
    "        property_group.append(' 2 Bedroom House')\n",
    "        \n",
    "    elif '3 bedroom apartment' in row.property_title:\n",
    "        property_group.append('3 Bedroom Apartment')\n",
    "        \n",
    "    elif '3 bedroom house' in row.property_title:\n",
    "        property_group.append('3 Bedroom House')\n",
    "        \n",
    "    elif '3 bedroom townhouse' in row.property_title:\n",
    "        property_group.append('3 Bedroom Townhouse')\n",
    "        \n",
    "    elif '3 bedroom villa' in row.property_title:\n",
    "        property_group.append('3 Bedroom Villa')\n",
    "        \n",
    "    elif '4 bedroom apartment' in row.property_title:\n",
    "        property_group.append('4 Bedroom Apartment')\n",
    "        \n",
    "    elif '4 bedroom house' in row.property_title:\n",
    "        property_group.append('4 Bedroom House')\n",
    "        \n",
    "    elif '4 bedroom townhouse' in row.property_title:\n",
    "        property_group.append('4 Bedroom Townhouse')\n",
    "        \n",
    "    elif '4 bedroom villa' in row.property_title:\n",
    "        property_group.append('4 Bedroom Villa')\n",
    "        \n",
    "    elif '5 bedroom apartment' in row.property_title:\n",
    "        property_group.append('5 Bedroom Apartment')\n",
    "        \n",
    "    elif '5 bedroom house' in row.property_title:\n",
    "        property_group.append('5 Bedroom House')\n",
    "        \n",
    "    elif '5 bedroom townhouse' in row.property_title:\n",
    "        property_group.append('5 Bedroom Townhouse')\n",
    "        \n",
    "    elif '5 bedroom villa' in row.property_title:\n",
    "        property_group.append('5 Bedroom Villa')\n",
    "    \n",
    "    elif '6 bedroom apartment' in row.property_title:\n",
    "        property_group.append('6 Bedroom Apartment')\n",
    "        \n",
    "    elif '6 bedroom house' in row.property_title:\n",
    "        property_group.append('6 Bedroom House')\n",
    "        \n",
    "    elif '6 bedroom townhouse' in row.property_title:\n",
    "        property_group.append('6 Bedroom Townhouse')\n",
    "        \n",
    "    elif '6 bedroom villa' in row.property_title:\n",
    "        property_group.append('6 Bedroom Villa')\n",
    "        \n",
    "    elif '7 bedroom apartment' in row.property_title:\n",
    "        property_group.append('7 Bedroom Apartment')\n",
    "        \n",
    "    elif '7 bedroom house' in row.property_title:\n",
    "        property_group.append('7 Bedroom House')\n",
    "        \n",
    "    elif '7 bedroom townhouse' in row.property_title:\n",
    "        property_group.append('7 Bedroom Townhouse')\n",
    "        \n",
    "    elif '7 bedroom villa' in row.property_title:\n",
    "        property_group.append('7 Bedroom Villa')\n",
    "        \n",
    "    elif '8 bedroom apartment' in row.property_title:\n",
    "        property_group.append('8 Bedroom Apartment')\n",
    "        \n",
    "    elif '8 bedroom house' in row.property_title:\n",
    "        property_group.append('8 Bedroom House')\n",
    "        \n",
    "    elif '8 bedroom townhouse' in row.property_title:\n",
    "        property_group.append('8 Bedroom Townhouse')\n",
    "        \n",
    "    elif '8 bedroom villa' in row.property_title:\n",
    "        property_group.append('8 Bedroom Villa')\n",
    "        \n",
    "    elif '9 bedroom apartment' in row.property_title:\n",
    "        property_group.append('9 Bedroom Apartment')\n",
    "        \n",
    "    elif '9 bedroom house' in row.property_title:\n",
    "        property_group.append('9 Bedroom House')\n",
    "        \n",
    "    elif '9 bedroom townhouse' in row.property_title:\n",
    "        property_group.append('9 Bedroom Townhouse')\n",
    "        \n",
    "    elif '9 bedroom villa' in row.property_title:\n",
    "        property_group.append('9 Bedroom Villa')\n",
    "        \n",
    "    elif '10 bedroom apartment' in row.property_title:\n",
    "        property_group.append('10 Bedroom Apartment')\n",
    "        \n",
    "    elif '10 bedroom house' in row.property_title:\n",
    "        property_group.append('10 Bedroom House')\n",
    "        \n",
    "    elif '10 bedroom townhouse' in row.property_title:\n",
    "        property_group.append('10 Bedroom Townhouse')\n",
    "        \n",
    "    elif '10 bedroom villa' in row.property_title:\n",
    "        property_group.append('10 Bedroom Villa')\n",
    "\n",
    "    elif 'Bedsitter' in row.property_title:\n",
    "        property_group.append('Bedsitter/Studio')\n",
    "    \n",
    "    elif 'studio' in row.property_title:\n",
    "        property_group.append('Bedsitter/Studio')\n",
    "        \n",
    "    else :\n",
    "        property_group.append('Others')\n",
    "        \n",
    "data['property_category'] = property_group"
   ]
  },
  {
   "cell_type": "code",
   "execution_count": 11,
   "id": "50f6ac2e",
   "metadata": {},
   "outputs": [],
   "source": [
    "property_subgroup = []\n",
    "for row in data.itertuples():\n",
    "    if 'Residential land' in row.property_title:\n",
    "        property_subgroup.append('Residential Land')\n",
    "\n",
    "    elif 'Commercial land' in row.property_title:\n",
    "        property_subgroup.append('Commercial Land')\n",
    "        \n",
    "    elif 'land' in row.property_title:\n",
    "        property_subgroup.append('Land')\n",
    "\n",
    "             \n",
    "    elif 'commercial property' in row.property_title:\n",
    "        property_subgroup.append('Commercial Property')\n",
    "\n",
    "    elif 'office' in row.property_title:\n",
    "        property_subgroup.append('Office')\n",
    "   \n",
    "    elif 'warehouse' in row.property_title:\n",
    "        property_subgroup.append('Warehouse')\n",
    "    \n",
    "    elif 'apartment' in row.property_title:\n",
    "        property_subgroup.append('Apartment')\n",
    "        \n",
    "    elif 'townhouse' in row.property_title:\n",
    "        property_subgroup.append('Townhouse')\n",
    "\n",
    "    elif 'house' in row.property_title:\n",
    "        property_subgroup.append('House')\n",
    "\n",
    "    elif 'villa' in row.property_title:\n",
    "        property_subgroup.append('Villa')\n",
    "\n",
    "    elif 'studio' in row.property_category:\n",
    "        property_subgroup.append('Studio')\n",
    "    \n",
    "    else :\n",
    "        property_subgroup.append('Others')\n",
    "\n",
    "data['property_subcategory'] = property_subgroup"
   ]
  },
  {
   "cell_type": "code",
   "execution_count": 12,
   "id": "f94dfaaa",
   "metadata": {},
   "outputs": [
    {
     "data": {
      "text/plain": [
       "Apartment              1722\n",
       "Land                   713 \n",
       "House                  515 \n",
       "Townhouse              383 \n",
       "Others                 129 \n",
       "Residential Land       72  \n",
       "Villa                  68  \n",
       "Warehouse              31  \n",
       "Office                 26  \n",
       "Commercial Land        26  \n",
       "Commercial Property    21  \n",
       "Name: property_subcategory, dtype: int64"
      ]
     },
     "execution_count": 12,
     "metadata": {},
     "output_type": "execute_result"
    }
   ],
   "source": [
    "data.property_subcategory.value_counts()"
   ]
  },
  {
   "cell_type": "code",
   "execution_count": 13,
   "id": "7bcda65c",
   "metadata": {},
   "outputs": [
    {
     "data": {
      "text/plain": [
       "(3662, 12)"
      ]
     },
     "execution_count": 13,
     "metadata": {},
     "output_type": "execute_result"
    }
   ],
   "source": [
    "#drop properties with price <1000\n",
    "data = data.loc[data['property_price_amount']>=200000]\n",
    "data.shape"
   ]
  },
  {
   "cell_type": "code",
   "execution_count": 14,
   "id": "83158125",
   "metadata": {},
   "outputs": [
    {
     "name": "stdout",
     "output_type": "stream",
     "text": [
      "(154, 5)\n"
     ]
    },
    {
     "data": {
      "text/html": [
       "<div>\n",
       "<style scoped>\n",
       "    .dataframe tbody tr th:only-of-type {\n",
       "        vertical-align: middle;\n",
       "    }\n",
       "\n",
       "    .dataframe tbody tr th {\n",
       "        vertical-align: top;\n",
       "    }\n",
       "\n",
       "    .dataframe thead th {\n",
       "        text-align: right;\n",
       "    }\n",
       "</style>\n",
       "<table border=\"1\" class=\"dataframe\">\n",
       "  <thead>\n",
       "    <tr style=\"text-align: right;\">\n",
       "      <th></th>\n",
       "      <th>property_agent</th>\n",
       "      <th>property_price_amount_count</th>\n",
       "      <th>property_price_amount_min</th>\n",
       "      <th>property_price_amount_max</th>\n",
       "      <th>property_price_amount_mean</th>\n",
       "    </tr>\n",
       "  </thead>\n",
       "  <tbody>\n",
       "    <tr>\n",
       "      <th>135</th>\n",
       "      <td>Splendor Holdings</td>\n",
       "      <td>96</td>\n",
       "      <td>3000000</td>\n",
       "      <td>60000000</td>\n",
       "      <td>14846875</td>\n",
       "    </tr>\n",
       "    <tr>\n",
       "      <th>3</th>\n",
       "      <td>Abode Realty</td>\n",
       "      <td>68</td>\n",
       "      <td>3900000</td>\n",
       "      <td>29000000</td>\n",
       "      <td>14504265</td>\n",
       "    </tr>\n",
       "    <tr>\n",
       "      <th>25</th>\n",
       "      <td>Crystal Valuers LTD</td>\n",
       "      <td>65</td>\n",
       "      <td>2000000</td>\n",
       "      <td>85000000</td>\n",
       "      <td>13357538</td>\n",
       "    </tr>\n",
       "    <tr>\n",
       "      <th>17</th>\n",
       "      <td>Balis Properties</td>\n",
       "      <td>57</td>\n",
       "      <td>3500000</td>\n",
       "      <td>36000000</td>\n",
       "      <td>15900702</td>\n",
       "    </tr>\n",
       "    <tr>\n",
       "      <th>134</th>\n",
       "      <td>Sky Limits Ventures</td>\n",
       "      <td>45</td>\n",
       "      <td>3800000</td>\n",
       "      <td>58000000</td>\n",
       "      <td>16486667</td>\n",
       "    </tr>\n",
       "  </tbody>\n",
       "</table>\n",
       "</div>"
      ],
      "text/plain": [
       "          property_agent  property_price_amount_count  \\\n",
       "135  Splendor Holdings    96                            \n",
       "3    Abode Realty         68                            \n",
       "25   Crystal Valuers LTD  65                            \n",
       "17   Balis Properties     57                            \n",
       "134  Sky Limits Ventures  45                            \n",
       "\n",
       "     property_price_amount_min  property_price_amount_max  \\\n",
       "135 3000000                    60000000                     \n",
       "3   3900000                    29000000                     \n",
       "25  2000000                    85000000                     \n",
       "17  3500000                    36000000                     \n",
       "134 3800000                    58000000                     \n",
       "\n",
       "     property_price_amount_mean  \n",
       "135 14846875                     \n",
       "3   14504265                     \n",
       "25  13357538                     \n",
       "17  15900702                     \n",
       "134 16486667                     "
      ]
     },
     "execution_count": 14,
     "metadata": {},
     "output_type": "execute_result"
    }
   ],
   "source": [
    "# analysis of product distribution by agent\n",
    "agents_data = data.loc[data['property_subcategory']=='Apartment']\n",
    "\n",
    "agg_agent_df = agents_data.groupby('property_agent').agg({'property_price_amount':['count','min','max','mean']})\n",
    "agg_agent_df.columns = ['_'.join(col).strip(' sum') for col in agg_agent_df.columns.values]\n",
    "agg_agent_df= agg_agent_df.reset_index()\n",
    "\n",
    "#drop row with missing agent name\n",
    "agg_agent_df = agg_agent_df.loc[agg_agent_df['property_agent']!= '-']\n",
    "\n",
    "#sorting the properties in descending order\n",
    "agg_agent_df = agg_agent_df.sort_values(by='property_price_amount_count', ascending = False)\n",
    "print(agg_agent_df.shape)\n",
    "agg_agent_df.head()"
   ]
  },
  {
   "cell_type": "code",
   "execution_count": 22,
   "id": "3aff830f",
   "metadata": {},
   "outputs": [
    {
     "data": {
      "application/vnd.plotly.v1+json": {
       "config": {
        "plotlyServerURL": "https://plot.ly"
       },
       "data": [
        {
         "alignmentgroup": "True",
         "hovertemplate": "property_agent=%{x}<br>property_price_amount_count=%{text}<extra></extra>",
         "legendgroup": "",
         "marker": {
          "color": "#636efa"
         },
         "name": "",
         "offsetgroup": "",
         "orientation": "v",
         "showlegend": false,
         "text": [
          43,
          30,
          33,
          30,
          43,
          32,
          45,
          26,
          57,
          23,
          24,
          24,
          96,
          68,
          65,
          27,
          25,
          27,
          43,
          25
         ],
         "textposition": "outside",
         "texttemplate": "%{text:.2s}",
         "type": "bar",
         "x": [
          "Coral Property International Ltd",
          "A1 Properties Ltd",
          "Pam Golding Properties",
          "Olympia Gold Real Estate",
          "Wilnas Property Ltd",
          "Azizi Realtors",
          "Sky Limits Ventures",
          "Peech Limited",
          "Balis Properties",
          "Tysons Limited",
          "Kenya Classic Homes",
          "Canaan Properties",
          "Splendor Holdings",
          "Abode Realty",
          "Crystal Valuers LTD",
          "Prima Properties Ke",
          "Citiscape Valuers & Estate Agents Ltd",
          "Ace Realtors Limited",
          "Round The Clock Homes",
          "Ring Kenya Ltd"
         ],
         "xaxis": "x",
         "y": [
          43,
          30,
          33,
          30,
          43,
          32,
          45,
          26,
          57,
          23,
          24,
          24,
          96,
          68,
          65,
          27,
          25,
          27,
          43,
          25
         ],
         "yaxis": "y"
        }
       ],
       "layout": {
        "barmode": "relative",
        "legend": {
         "tracegroupgap": 0
        },
        "margin": {
         "t": 60
        },
        "template": {
         "data": {
          "bar": [
           {
            "error_x": {
             "color": "#2a3f5f"
            },
            "error_y": {
             "color": "#2a3f5f"
            },
            "marker": {
             "line": {
              "color": "#E5ECF6",
              "width": 0.5
             }
            },
            "type": "bar"
           }
          ],
          "barpolar": [
           {
            "marker": {
             "line": {
              "color": "#E5ECF6",
              "width": 0.5
             }
            },
            "type": "barpolar"
           }
          ],
          "carpet": [
           {
            "aaxis": {
             "endlinecolor": "#2a3f5f",
             "gridcolor": "white",
             "linecolor": "white",
             "minorgridcolor": "white",
             "startlinecolor": "#2a3f5f"
            },
            "baxis": {
             "endlinecolor": "#2a3f5f",
             "gridcolor": "white",
             "linecolor": "white",
             "minorgridcolor": "white",
             "startlinecolor": "#2a3f5f"
            },
            "type": "carpet"
           }
          ],
          "choropleth": [
           {
            "colorbar": {
             "outlinewidth": 0,
             "ticks": ""
            },
            "type": "choropleth"
           }
          ],
          "contour": [
           {
            "colorbar": {
             "outlinewidth": 0,
             "ticks": ""
            },
            "colorscale": [
             [
              0,
              "#0d0887"
             ],
             [
              0.1111111111111111,
              "#46039f"
             ],
             [
              0.2222222222222222,
              "#7201a8"
             ],
             [
              0.3333333333333333,
              "#9c179e"
             ],
             [
              0.4444444444444444,
              "#bd3786"
             ],
             [
              0.5555555555555556,
              "#d8576b"
             ],
             [
              0.6666666666666666,
              "#ed7953"
             ],
             [
              0.7777777777777778,
              "#fb9f3a"
             ],
             [
              0.8888888888888888,
              "#fdca26"
             ],
             [
              1,
              "#f0f921"
             ]
            ],
            "type": "contour"
           }
          ],
          "contourcarpet": [
           {
            "colorbar": {
             "outlinewidth": 0,
             "ticks": ""
            },
            "type": "contourcarpet"
           }
          ],
          "heatmap": [
           {
            "colorbar": {
             "outlinewidth": 0,
             "ticks": ""
            },
            "colorscale": [
             [
              0,
              "#0d0887"
             ],
             [
              0.1111111111111111,
              "#46039f"
             ],
             [
              0.2222222222222222,
              "#7201a8"
             ],
             [
              0.3333333333333333,
              "#9c179e"
             ],
             [
              0.4444444444444444,
              "#bd3786"
             ],
             [
              0.5555555555555556,
              "#d8576b"
             ],
             [
              0.6666666666666666,
              "#ed7953"
             ],
             [
              0.7777777777777778,
              "#fb9f3a"
             ],
             [
              0.8888888888888888,
              "#fdca26"
             ],
             [
              1,
              "#f0f921"
             ]
            ],
            "type": "heatmap"
           }
          ],
          "heatmapgl": [
           {
            "colorbar": {
             "outlinewidth": 0,
             "ticks": ""
            },
            "colorscale": [
             [
              0,
              "#0d0887"
             ],
             [
              0.1111111111111111,
              "#46039f"
             ],
             [
              0.2222222222222222,
              "#7201a8"
             ],
             [
              0.3333333333333333,
              "#9c179e"
             ],
             [
              0.4444444444444444,
              "#bd3786"
             ],
             [
              0.5555555555555556,
              "#d8576b"
             ],
             [
              0.6666666666666666,
              "#ed7953"
             ],
             [
              0.7777777777777778,
              "#fb9f3a"
             ],
             [
              0.8888888888888888,
              "#fdca26"
             ],
             [
              1,
              "#f0f921"
             ]
            ],
            "type": "heatmapgl"
           }
          ],
          "histogram": [
           {
            "marker": {
             "colorbar": {
              "outlinewidth": 0,
              "ticks": ""
             }
            },
            "type": "histogram"
           }
          ],
          "histogram2d": [
           {
            "colorbar": {
             "outlinewidth": 0,
             "ticks": ""
            },
            "colorscale": [
             [
              0,
              "#0d0887"
             ],
             [
              0.1111111111111111,
              "#46039f"
             ],
             [
              0.2222222222222222,
              "#7201a8"
             ],
             [
              0.3333333333333333,
              "#9c179e"
             ],
             [
              0.4444444444444444,
              "#bd3786"
             ],
             [
              0.5555555555555556,
              "#d8576b"
             ],
             [
              0.6666666666666666,
              "#ed7953"
             ],
             [
              0.7777777777777778,
              "#fb9f3a"
             ],
             [
              0.8888888888888888,
              "#fdca26"
             ],
             [
              1,
              "#f0f921"
             ]
            ],
            "type": "histogram2d"
           }
          ],
          "histogram2dcontour": [
           {
            "colorbar": {
             "outlinewidth": 0,
             "ticks": ""
            },
            "colorscale": [
             [
              0,
              "#0d0887"
             ],
             [
              0.1111111111111111,
              "#46039f"
             ],
             [
              0.2222222222222222,
              "#7201a8"
             ],
             [
              0.3333333333333333,
              "#9c179e"
             ],
             [
              0.4444444444444444,
              "#bd3786"
             ],
             [
              0.5555555555555556,
              "#d8576b"
             ],
             [
              0.6666666666666666,
              "#ed7953"
             ],
             [
              0.7777777777777778,
              "#fb9f3a"
             ],
             [
              0.8888888888888888,
              "#fdca26"
             ],
             [
              1,
              "#f0f921"
             ]
            ],
            "type": "histogram2dcontour"
           }
          ],
          "mesh3d": [
           {
            "colorbar": {
             "outlinewidth": 0,
             "ticks": ""
            },
            "type": "mesh3d"
           }
          ],
          "parcoords": [
           {
            "line": {
             "colorbar": {
              "outlinewidth": 0,
              "ticks": ""
             }
            },
            "type": "parcoords"
           }
          ],
          "pie": [
           {
            "automargin": true,
            "type": "pie"
           }
          ],
          "scatter": [
           {
            "marker": {
             "colorbar": {
              "outlinewidth": 0,
              "ticks": ""
             }
            },
            "type": "scatter"
           }
          ],
          "scatter3d": [
           {
            "line": {
             "colorbar": {
              "outlinewidth": 0,
              "ticks": ""
             }
            },
            "marker": {
             "colorbar": {
              "outlinewidth": 0,
              "ticks": ""
             }
            },
            "type": "scatter3d"
           }
          ],
          "scattercarpet": [
           {
            "marker": {
             "colorbar": {
              "outlinewidth": 0,
              "ticks": ""
             }
            },
            "type": "scattercarpet"
           }
          ],
          "scattergeo": [
           {
            "marker": {
             "colorbar": {
              "outlinewidth": 0,
              "ticks": ""
             }
            },
            "type": "scattergeo"
           }
          ],
          "scattergl": [
           {
            "marker": {
             "colorbar": {
              "outlinewidth": 0,
              "ticks": ""
             }
            },
            "type": "scattergl"
           }
          ],
          "scattermapbox": [
           {
            "marker": {
             "colorbar": {
              "outlinewidth": 0,
              "ticks": ""
             }
            },
            "type": "scattermapbox"
           }
          ],
          "scatterpolar": [
           {
            "marker": {
             "colorbar": {
              "outlinewidth": 0,
              "ticks": ""
             }
            },
            "type": "scatterpolar"
           }
          ],
          "scatterpolargl": [
           {
            "marker": {
             "colorbar": {
              "outlinewidth": 0,
              "ticks": ""
             }
            },
            "type": "scatterpolargl"
           }
          ],
          "scatterternary": [
           {
            "marker": {
             "colorbar": {
              "outlinewidth": 0,
              "ticks": ""
             }
            },
            "type": "scatterternary"
           }
          ],
          "surface": [
           {
            "colorbar": {
             "outlinewidth": 0,
             "ticks": ""
            },
            "colorscale": [
             [
              0,
              "#0d0887"
             ],
             [
              0.1111111111111111,
              "#46039f"
             ],
             [
              0.2222222222222222,
              "#7201a8"
             ],
             [
              0.3333333333333333,
              "#9c179e"
             ],
             [
              0.4444444444444444,
              "#bd3786"
             ],
             [
              0.5555555555555556,
              "#d8576b"
             ],
             [
              0.6666666666666666,
              "#ed7953"
             ],
             [
              0.7777777777777778,
              "#fb9f3a"
             ],
             [
              0.8888888888888888,
              "#fdca26"
             ],
             [
              1,
              "#f0f921"
             ]
            ],
            "type": "surface"
           }
          ],
          "table": [
           {
            "cells": {
             "fill": {
              "color": "#EBF0F8"
             },
             "line": {
              "color": "white"
             }
            },
            "header": {
             "fill": {
              "color": "#C8D4E3"
             },
             "line": {
              "color": "white"
             }
            },
            "type": "table"
           }
          ]
         },
         "layout": {
          "annotationdefaults": {
           "arrowcolor": "#2a3f5f",
           "arrowhead": 0,
           "arrowwidth": 1
          },
          "autotypenumbers": "strict",
          "coloraxis": {
           "colorbar": {
            "outlinewidth": 0,
            "ticks": ""
           }
          },
          "colorscale": {
           "diverging": [
            [
             0,
             "#8e0152"
            ],
            [
             0.1,
             "#c51b7d"
            ],
            [
             0.2,
             "#de77ae"
            ],
            [
             0.3,
             "#f1b6da"
            ],
            [
             0.4,
             "#fde0ef"
            ],
            [
             0.5,
             "#f7f7f7"
            ],
            [
             0.6,
             "#e6f5d0"
            ],
            [
             0.7,
             "#b8e186"
            ],
            [
             0.8,
             "#7fbc41"
            ],
            [
             0.9,
             "#4d9221"
            ],
            [
             1,
             "#276419"
            ]
           ],
           "sequential": [
            [
             0,
             "#0d0887"
            ],
            [
             0.1111111111111111,
             "#46039f"
            ],
            [
             0.2222222222222222,
             "#7201a8"
            ],
            [
             0.3333333333333333,
             "#9c179e"
            ],
            [
             0.4444444444444444,
             "#bd3786"
            ],
            [
             0.5555555555555556,
             "#d8576b"
            ],
            [
             0.6666666666666666,
             "#ed7953"
            ],
            [
             0.7777777777777778,
             "#fb9f3a"
            ],
            [
             0.8888888888888888,
             "#fdca26"
            ],
            [
             1,
             "#f0f921"
            ]
           ],
           "sequentialminus": [
            [
             0,
             "#0d0887"
            ],
            [
             0.1111111111111111,
             "#46039f"
            ],
            [
             0.2222222222222222,
             "#7201a8"
            ],
            [
             0.3333333333333333,
             "#9c179e"
            ],
            [
             0.4444444444444444,
             "#bd3786"
            ],
            [
             0.5555555555555556,
             "#d8576b"
            ],
            [
             0.6666666666666666,
             "#ed7953"
            ],
            [
             0.7777777777777778,
             "#fb9f3a"
            ],
            [
             0.8888888888888888,
             "#fdca26"
            ],
            [
             1,
             "#f0f921"
            ]
           ]
          },
          "colorway": [
           "#636efa",
           "#EF553B",
           "#00cc96",
           "#ab63fa",
           "#FFA15A",
           "#19d3f3",
           "#FF6692",
           "#B6E880",
           "#FF97FF",
           "#FECB52"
          ],
          "font": {
           "color": "#2a3f5f"
          },
          "geo": {
           "bgcolor": "white",
           "lakecolor": "white",
           "landcolor": "#E5ECF6",
           "showlakes": true,
           "showland": true,
           "subunitcolor": "white"
          },
          "hoverlabel": {
           "align": "left"
          },
          "hovermode": "closest",
          "mapbox": {
           "style": "light"
          },
          "paper_bgcolor": "white",
          "plot_bgcolor": "#E5ECF6",
          "polar": {
           "angularaxis": {
            "gridcolor": "white",
            "linecolor": "white",
            "ticks": ""
           },
           "bgcolor": "#E5ECF6",
           "radialaxis": {
            "gridcolor": "white",
            "linecolor": "white",
            "ticks": ""
           }
          },
          "scene": {
           "xaxis": {
            "backgroundcolor": "#E5ECF6",
            "gridcolor": "white",
            "gridwidth": 2,
            "linecolor": "white",
            "showbackground": true,
            "ticks": "",
            "zerolinecolor": "white"
           },
           "yaxis": {
            "backgroundcolor": "#E5ECF6",
            "gridcolor": "white",
            "gridwidth": 2,
            "linecolor": "white",
            "showbackground": true,
            "ticks": "",
            "zerolinecolor": "white"
           },
           "zaxis": {
            "backgroundcolor": "#E5ECF6",
            "gridcolor": "white",
            "gridwidth": 2,
            "linecolor": "white",
            "showbackground": true,
            "ticks": "",
            "zerolinecolor": "white"
           }
          },
          "shapedefaults": {
           "line": {
            "color": "#2a3f5f"
           }
          },
          "ternary": {
           "aaxis": {
            "gridcolor": "white",
            "linecolor": "white",
            "ticks": ""
           },
           "baxis": {
            "gridcolor": "white",
            "linecolor": "white",
            "ticks": ""
           },
           "bgcolor": "#E5ECF6",
           "caxis": {
            "gridcolor": "white",
            "linecolor": "white",
            "ticks": ""
           }
          },
          "title": {
           "x": 0.05
          },
          "xaxis": {
           "automargin": true,
           "gridcolor": "white",
           "linecolor": "white",
           "ticks": "",
           "title": {
            "standoff": 15
           },
           "zerolinecolor": "white",
           "zerolinewidth": 2
          },
          "yaxis": {
           "automargin": true,
           "gridcolor": "white",
           "linecolor": "white",
           "ticks": "",
           "title": {
            "standoff": 15
           },
           "zerolinecolor": "white",
           "zerolinewidth": 2
          }
         }
        },
        "xaxis": {
         "anchor": "y",
         "domain": [
          0,
          1
         ],
         "title": {
          "text": "property_agent"
         }
        },
        "yaxis": {
         "anchor": "x",
         "domain": [
          0,
          1
         ],
         "title": {
          "text": "property_price_amount_count"
         }
        }
       }
      },
      "text/html": [
       "<div>                            <div id=\"35878db7-993e-41ef-b693-8f47f3494e21\" class=\"plotly-graph-div\" style=\"height:525px; width:100%;\"></div>            <script type=\"text/javascript\">                require([\"plotly\"], function(Plotly) {                    window.PLOTLYENV=window.PLOTLYENV || {};                                    if (document.getElementById(\"35878db7-993e-41ef-b693-8f47f3494e21\")) {                    Plotly.newPlot(                        \"35878db7-993e-41ef-b693-8f47f3494e21\",                        [{\"alignmentgroup\": \"True\", \"hovertemplate\": \"property_agent=%{x}<br>property_price_amount_count=%{text}<extra></extra>\", \"legendgroup\": \"\", \"marker\": {\"color\": \"#636efa\"}, \"name\": \"\", \"offsetgroup\": \"\", \"orientation\": \"v\", \"showlegend\": false, \"text\": [43.0, 30.0, 33.0, 30.0, 43.0, 32.0, 45.0, 26.0, 57.0, 23.0, 24.0, 24.0, 96.0, 68.0, 65.0, 27.0, 25.0, 27.0, 43.0, 25.0], \"textposition\": \"outside\", \"texttemplate\": \"%{text:.2s}\", \"type\": \"bar\", \"x\": [\"Coral Property International Ltd\", \"A1 Properties Ltd\", \"Pam Golding Properties\", \"Olympia Gold Real Estate\", \"Wilnas Property Ltd\", \"Azizi Realtors\", \"Sky Limits Ventures\", \"Peech Limited\", \"Balis Properties\", \"Tysons Limited\", \"Kenya Classic Homes\", \"Canaan Properties\", \"Splendor Holdings\", \"Abode Realty\", \"Crystal Valuers LTD\", \"Prima Properties Ke\", \"Citiscape Valuers & Estate Agents Ltd\", \"Ace Realtors Limited\", \"Round The Clock Homes\", \"Ring Kenya Ltd\"], \"xaxis\": \"x\", \"y\": [43, 30, 33, 30, 43, 32, 45, 26, 57, 23, 24, 24, 96, 68, 65, 27, 25, 27, 43, 25], \"yaxis\": \"y\"}],                        {\"barmode\": \"relative\", \"legend\": {\"tracegroupgap\": 0}, \"margin\": {\"t\": 60}, \"template\": {\"data\": {\"bar\": [{\"error_x\": {\"color\": \"#2a3f5f\"}, \"error_y\": {\"color\": \"#2a3f5f\"}, \"marker\": {\"line\": {\"color\": \"#E5ECF6\", \"width\": 0.5}}, \"type\": \"bar\"}], \"barpolar\": [{\"marker\": {\"line\": {\"color\": \"#E5ECF6\", \"width\": 0.5}}, \"type\": \"barpolar\"}], \"carpet\": [{\"aaxis\": {\"endlinecolor\": \"#2a3f5f\", \"gridcolor\": \"white\", \"linecolor\": \"white\", \"minorgridcolor\": \"white\", \"startlinecolor\": \"#2a3f5f\"}, \"baxis\": {\"endlinecolor\": \"#2a3f5f\", \"gridcolor\": \"white\", \"linecolor\": \"white\", \"minorgridcolor\": \"white\", \"startlinecolor\": \"#2a3f5f\"}, \"type\": \"carpet\"}], \"choropleth\": [{\"colorbar\": {\"outlinewidth\": 0, \"ticks\": \"\"}, \"type\": \"choropleth\"}], \"contour\": [{\"colorbar\": {\"outlinewidth\": 0, \"ticks\": \"\"}, \"colorscale\": [[0.0, \"#0d0887\"], [0.1111111111111111, \"#46039f\"], [0.2222222222222222, \"#7201a8\"], [0.3333333333333333, \"#9c179e\"], [0.4444444444444444, \"#bd3786\"], [0.5555555555555556, \"#d8576b\"], [0.6666666666666666, \"#ed7953\"], [0.7777777777777778, \"#fb9f3a\"], [0.8888888888888888, \"#fdca26\"], [1.0, \"#f0f921\"]], \"type\": \"contour\"}], \"contourcarpet\": [{\"colorbar\": {\"outlinewidth\": 0, \"ticks\": \"\"}, \"type\": \"contourcarpet\"}], \"heatmap\": [{\"colorbar\": {\"outlinewidth\": 0, \"ticks\": \"\"}, \"colorscale\": [[0.0, \"#0d0887\"], [0.1111111111111111, \"#46039f\"], [0.2222222222222222, \"#7201a8\"], [0.3333333333333333, \"#9c179e\"], [0.4444444444444444, \"#bd3786\"], [0.5555555555555556, \"#d8576b\"], [0.6666666666666666, \"#ed7953\"], [0.7777777777777778, \"#fb9f3a\"], [0.8888888888888888, \"#fdca26\"], [1.0, \"#f0f921\"]], \"type\": \"heatmap\"}], \"heatmapgl\": [{\"colorbar\": {\"outlinewidth\": 0, \"ticks\": \"\"}, \"colorscale\": [[0.0, \"#0d0887\"], [0.1111111111111111, \"#46039f\"], [0.2222222222222222, \"#7201a8\"], [0.3333333333333333, \"#9c179e\"], [0.4444444444444444, \"#bd3786\"], [0.5555555555555556, \"#d8576b\"], [0.6666666666666666, \"#ed7953\"], [0.7777777777777778, \"#fb9f3a\"], [0.8888888888888888, \"#fdca26\"], [1.0, \"#f0f921\"]], \"type\": \"heatmapgl\"}], \"histogram\": [{\"marker\": {\"colorbar\": {\"outlinewidth\": 0, \"ticks\": \"\"}}, \"type\": \"histogram\"}], \"histogram2d\": [{\"colorbar\": {\"outlinewidth\": 0, \"ticks\": \"\"}, \"colorscale\": [[0.0, \"#0d0887\"], [0.1111111111111111, \"#46039f\"], [0.2222222222222222, \"#7201a8\"], [0.3333333333333333, \"#9c179e\"], [0.4444444444444444, \"#bd3786\"], [0.5555555555555556, \"#d8576b\"], [0.6666666666666666, \"#ed7953\"], [0.7777777777777778, \"#fb9f3a\"], [0.8888888888888888, \"#fdca26\"], [1.0, \"#f0f921\"]], \"type\": \"histogram2d\"}], \"histogram2dcontour\": [{\"colorbar\": {\"outlinewidth\": 0, \"ticks\": \"\"}, \"colorscale\": [[0.0, \"#0d0887\"], [0.1111111111111111, \"#46039f\"], [0.2222222222222222, \"#7201a8\"], [0.3333333333333333, \"#9c179e\"], [0.4444444444444444, \"#bd3786\"], [0.5555555555555556, \"#d8576b\"], [0.6666666666666666, \"#ed7953\"], [0.7777777777777778, \"#fb9f3a\"], [0.8888888888888888, \"#fdca26\"], [1.0, \"#f0f921\"]], \"type\": \"histogram2dcontour\"}], \"mesh3d\": [{\"colorbar\": {\"outlinewidth\": 0, \"ticks\": \"\"}, \"type\": \"mesh3d\"}], \"parcoords\": [{\"line\": {\"colorbar\": {\"outlinewidth\": 0, \"ticks\": \"\"}}, \"type\": \"parcoords\"}], \"pie\": [{\"automargin\": true, \"type\": \"pie\"}], \"scatter\": [{\"marker\": {\"colorbar\": {\"outlinewidth\": 0, \"ticks\": \"\"}}, \"type\": \"scatter\"}], \"scatter3d\": [{\"line\": {\"colorbar\": {\"outlinewidth\": 0, \"ticks\": \"\"}}, \"marker\": {\"colorbar\": {\"outlinewidth\": 0, \"ticks\": \"\"}}, \"type\": \"scatter3d\"}], \"scattercarpet\": [{\"marker\": {\"colorbar\": {\"outlinewidth\": 0, \"ticks\": \"\"}}, \"type\": \"scattercarpet\"}], \"scattergeo\": [{\"marker\": {\"colorbar\": {\"outlinewidth\": 0, \"ticks\": \"\"}}, \"type\": \"scattergeo\"}], \"scattergl\": [{\"marker\": {\"colorbar\": {\"outlinewidth\": 0, \"ticks\": \"\"}}, \"type\": \"scattergl\"}], \"scattermapbox\": [{\"marker\": {\"colorbar\": {\"outlinewidth\": 0, \"ticks\": \"\"}}, \"type\": \"scattermapbox\"}], \"scatterpolar\": [{\"marker\": {\"colorbar\": {\"outlinewidth\": 0, \"ticks\": \"\"}}, \"type\": \"scatterpolar\"}], \"scatterpolargl\": [{\"marker\": {\"colorbar\": {\"outlinewidth\": 0, \"ticks\": \"\"}}, \"type\": \"scatterpolargl\"}], \"scatterternary\": [{\"marker\": {\"colorbar\": {\"outlinewidth\": 0, \"ticks\": \"\"}}, \"type\": \"scatterternary\"}], \"surface\": [{\"colorbar\": {\"outlinewidth\": 0, \"ticks\": \"\"}, \"colorscale\": [[0.0, \"#0d0887\"], [0.1111111111111111, \"#46039f\"], [0.2222222222222222, \"#7201a8\"], [0.3333333333333333, \"#9c179e\"], [0.4444444444444444, \"#bd3786\"], [0.5555555555555556, \"#d8576b\"], [0.6666666666666666, \"#ed7953\"], [0.7777777777777778, \"#fb9f3a\"], [0.8888888888888888, \"#fdca26\"], [1.0, \"#f0f921\"]], \"type\": \"surface\"}], \"table\": [{\"cells\": {\"fill\": {\"color\": \"#EBF0F8\"}, \"line\": {\"color\": \"white\"}}, \"header\": {\"fill\": {\"color\": \"#C8D4E3\"}, \"line\": {\"color\": \"white\"}}, \"type\": \"table\"}]}, \"layout\": {\"annotationdefaults\": {\"arrowcolor\": \"#2a3f5f\", \"arrowhead\": 0, \"arrowwidth\": 1}, \"autotypenumbers\": \"strict\", \"coloraxis\": {\"colorbar\": {\"outlinewidth\": 0, \"ticks\": \"\"}}, \"colorscale\": {\"diverging\": [[0, \"#8e0152\"], [0.1, \"#c51b7d\"], [0.2, \"#de77ae\"], [0.3, \"#f1b6da\"], [0.4, \"#fde0ef\"], [0.5, \"#f7f7f7\"], [0.6, \"#e6f5d0\"], [0.7, \"#b8e186\"], [0.8, \"#7fbc41\"], [0.9, \"#4d9221\"], [1, \"#276419\"]], \"sequential\": [[0.0, \"#0d0887\"], [0.1111111111111111, \"#46039f\"], [0.2222222222222222, \"#7201a8\"], [0.3333333333333333, \"#9c179e\"], [0.4444444444444444, \"#bd3786\"], [0.5555555555555556, \"#d8576b\"], [0.6666666666666666, \"#ed7953\"], [0.7777777777777778, \"#fb9f3a\"], [0.8888888888888888, \"#fdca26\"], [1.0, \"#f0f921\"]], \"sequentialminus\": [[0.0, \"#0d0887\"], [0.1111111111111111, \"#46039f\"], [0.2222222222222222, \"#7201a8\"], [0.3333333333333333, \"#9c179e\"], [0.4444444444444444, \"#bd3786\"], [0.5555555555555556, \"#d8576b\"], [0.6666666666666666, \"#ed7953\"], [0.7777777777777778, \"#fb9f3a\"], [0.8888888888888888, \"#fdca26\"], [1.0, \"#f0f921\"]]}, \"colorway\": [\"#636efa\", \"#EF553B\", \"#00cc96\", \"#ab63fa\", \"#FFA15A\", \"#19d3f3\", \"#FF6692\", \"#B6E880\", \"#FF97FF\", \"#FECB52\"], \"font\": {\"color\": \"#2a3f5f\"}, \"geo\": {\"bgcolor\": \"white\", \"lakecolor\": \"white\", \"landcolor\": \"#E5ECF6\", \"showlakes\": true, \"showland\": true, \"subunitcolor\": \"white\"}, \"hoverlabel\": {\"align\": \"left\"}, \"hovermode\": \"closest\", \"mapbox\": {\"style\": \"light\"}, \"paper_bgcolor\": \"white\", \"plot_bgcolor\": \"#E5ECF6\", \"polar\": {\"angularaxis\": {\"gridcolor\": \"white\", \"linecolor\": \"white\", \"ticks\": \"\"}, \"bgcolor\": \"#E5ECF6\", \"radialaxis\": {\"gridcolor\": \"white\", \"linecolor\": \"white\", \"ticks\": \"\"}}, \"scene\": {\"xaxis\": {\"backgroundcolor\": \"#E5ECF6\", \"gridcolor\": \"white\", \"gridwidth\": 2, \"linecolor\": \"white\", \"showbackground\": true, \"ticks\": \"\", \"zerolinecolor\": \"white\"}, \"yaxis\": {\"backgroundcolor\": \"#E5ECF6\", \"gridcolor\": \"white\", \"gridwidth\": 2, \"linecolor\": \"white\", \"showbackground\": true, \"ticks\": \"\", \"zerolinecolor\": \"white\"}, \"zaxis\": {\"backgroundcolor\": \"#E5ECF6\", \"gridcolor\": \"white\", \"gridwidth\": 2, \"linecolor\": \"white\", \"showbackground\": true, \"ticks\": \"\", \"zerolinecolor\": \"white\"}}, \"shapedefaults\": {\"line\": {\"color\": \"#2a3f5f\"}}, \"ternary\": {\"aaxis\": {\"gridcolor\": \"white\", \"linecolor\": \"white\", \"ticks\": \"\"}, \"baxis\": {\"gridcolor\": \"white\", \"linecolor\": \"white\", \"ticks\": \"\"}, \"bgcolor\": \"#E5ECF6\", \"caxis\": {\"gridcolor\": \"white\", \"linecolor\": \"white\", \"ticks\": \"\"}}, \"title\": {\"x\": 0.05}, \"xaxis\": {\"automargin\": true, \"gridcolor\": \"white\", \"linecolor\": \"white\", \"ticks\": \"\", \"title\": {\"standoff\": 15}, \"zerolinecolor\": \"white\", \"zerolinewidth\": 2}, \"yaxis\": {\"automargin\": true, \"gridcolor\": \"white\", \"linecolor\": \"white\", \"ticks\": \"\", \"title\": {\"standoff\": 15}, \"zerolinecolor\": \"white\", \"zerolinewidth\": 2}}}, \"xaxis\": {\"anchor\": \"y\", \"domain\": [0.0, 1.0], \"title\": {\"text\": \"property_agent\"}}, \"yaxis\": {\"anchor\": \"x\", \"domain\": [0.0, 1.0], \"title\": {\"text\": \"property_price_amount_count\"}}},                        {\"responsive\": true}                    ).then(function(){\n",
       "                            \n",
       "var gd = document.getElementById('35878db7-993e-41ef-b693-8f47f3494e21');\n",
       "var x = new MutationObserver(function (mutations, observer) {{\n",
       "        var display = window.getComputedStyle(gd).display;\n",
       "        if (!display || display === 'none') {{\n",
       "            console.log([gd, 'removed!']);\n",
       "            Plotly.purge(gd);\n",
       "            observer.disconnect();\n",
       "        }}\n",
       "}});\n",
       "\n",
       "// Listen for the removal of the full notebook cells\n",
       "var notebookContainer = gd.closest('#notebook-container');\n",
       "if (notebookContainer) {{\n",
       "    x.observe(notebookContainer, {childList: true});\n",
       "}}\n",
       "\n",
       "// Listen for the clearing of the current output cell\n",
       "var outputEl = gd.closest('.output');\n",
       "if (outputEl) {{\n",
       "    x.observe(outputEl, {childList: true});\n",
       "}}\n",
       "\n",
       "                        })                };                });            </script>        </div>"
      ]
     },
     "metadata": {},
     "output_type": "display_data"
    },
    {
     "data": {
      "application/vnd.plotly.v1+json": {
       "config": {
        "plotlyServerURL": "https://plot.ly"
       },
       "data": [
        {
         "alignmentgroup": "True",
         "hovertemplate": "property_agent=%{x}<br>property_price_amount_count=%{text}<extra></extra>",
         "legendgroup": "",
         "marker": {
          "color": "#636efa"
         },
         "name": "",
         "offsetgroup": "",
         "orientation": "v",
         "showlegend": false,
         "text": [
          43,
          30,
          33,
          30,
          43,
          32,
          45,
          26,
          57,
          23,
          24,
          24,
          96,
          68,
          65,
          27,
          25,
          27,
          43,
          25
         ],
         "textposition": "outside",
         "texttemplate": "%{text:.2s}",
         "type": "bar",
         "x": [
          "Coral Property International Ltd",
          "A1 Properties Ltd",
          "Pam Golding Properties",
          "Olympia Gold Real Estate",
          "Wilnas Property Ltd",
          "Azizi Realtors",
          "Sky Limits Ventures",
          "Peech Limited",
          "Balis Properties",
          "Tysons Limited",
          "Kenya Classic Homes",
          "Canaan Properties",
          "Splendor Holdings",
          "Abode Realty",
          "Crystal Valuers LTD",
          "Prima Properties Ke",
          "Citiscape Valuers & Estate Agents Ltd",
          "Ace Realtors Limited",
          "Round The Clock Homes",
          "Ring Kenya Ltd"
         ],
         "xaxis": "x",
         "y": [
          43,
          30,
          33,
          30,
          43,
          32,
          45,
          26,
          57,
          23,
          24,
          24,
          96,
          68,
          65,
          27,
          25,
          27,
          43,
          25
         ],
         "yaxis": "y"
        }
       ],
       "layout": {
        "barmode": "relative",
        "legend": {
         "tracegroupgap": 0
        },
        "margin": {
         "t": 60
        },
        "template": {
         "data": {
          "bar": [
           {
            "error_x": {
             "color": "#2a3f5f"
            },
            "error_y": {
             "color": "#2a3f5f"
            },
            "marker": {
             "line": {
              "color": "#E5ECF6",
              "width": 0.5
             }
            },
            "type": "bar"
           }
          ],
          "barpolar": [
           {
            "marker": {
             "line": {
              "color": "#E5ECF6",
              "width": 0.5
             }
            },
            "type": "barpolar"
           }
          ],
          "carpet": [
           {
            "aaxis": {
             "endlinecolor": "#2a3f5f",
             "gridcolor": "white",
             "linecolor": "white",
             "minorgridcolor": "white",
             "startlinecolor": "#2a3f5f"
            },
            "baxis": {
             "endlinecolor": "#2a3f5f",
             "gridcolor": "white",
             "linecolor": "white",
             "minorgridcolor": "white",
             "startlinecolor": "#2a3f5f"
            },
            "type": "carpet"
           }
          ],
          "choropleth": [
           {
            "colorbar": {
             "outlinewidth": 0,
             "ticks": ""
            },
            "type": "choropleth"
           }
          ],
          "contour": [
           {
            "colorbar": {
             "outlinewidth": 0,
             "ticks": ""
            },
            "colorscale": [
             [
              0,
              "#0d0887"
             ],
             [
              0.1111111111111111,
              "#46039f"
             ],
             [
              0.2222222222222222,
              "#7201a8"
             ],
             [
              0.3333333333333333,
              "#9c179e"
             ],
             [
              0.4444444444444444,
              "#bd3786"
             ],
             [
              0.5555555555555556,
              "#d8576b"
             ],
             [
              0.6666666666666666,
              "#ed7953"
             ],
             [
              0.7777777777777778,
              "#fb9f3a"
             ],
             [
              0.8888888888888888,
              "#fdca26"
             ],
             [
              1,
              "#f0f921"
             ]
            ],
            "type": "contour"
           }
          ],
          "contourcarpet": [
           {
            "colorbar": {
             "outlinewidth": 0,
             "ticks": ""
            },
            "type": "contourcarpet"
           }
          ],
          "heatmap": [
           {
            "colorbar": {
             "outlinewidth": 0,
             "ticks": ""
            },
            "colorscale": [
             [
              0,
              "#0d0887"
             ],
             [
              0.1111111111111111,
              "#46039f"
             ],
             [
              0.2222222222222222,
              "#7201a8"
             ],
             [
              0.3333333333333333,
              "#9c179e"
             ],
             [
              0.4444444444444444,
              "#bd3786"
             ],
             [
              0.5555555555555556,
              "#d8576b"
             ],
             [
              0.6666666666666666,
              "#ed7953"
             ],
             [
              0.7777777777777778,
              "#fb9f3a"
             ],
             [
              0.8888888888888888,
              "#fdca26"
             ],
             [
              1,
              "#f0f921"
             ]
            ],
            "type": "heatmap"
           }
          ],
          "heatmapgl": [
           {
            "colorbar": {
             "outlinewidth": 0,
             "ticks": ""
            },
            "colorscale": [
             [
              0,
              "#0d0887"
             ],
             [
              0.1111111111111111,
              "#46039f"
             ],
             [
              0.2222222222222222,
              "#7201a8"
             ],
             [
              0.3333333333333333,
              "#9c179e"
             ],
             [
              0.4444444444444444,
              "#bd3786"
             ],
             [
              0.5555555555555556,
              "#d8576b"
             ],
             [
              0.6666666666666666,
              "#ed7953"
             ],
             [
              0.7777777777777778,
              "#fb9f3a"
             ],
             [
              0.8888888888888888,
              "#fdca26"
             ],
             [
              1,
              "#f0f921"
             ]
            ],
            "type": "heatmapgl"
           }
          ],
          "histogram": [
           {
            "marker": {
             "colorbar": {
              "outlinewidth": 0,
              "ticks": ""
             }
            },
            "type": "histogram"
           }
          ],
          "histogram2d": [
           {
            "colorbar": {
             "outlinewidth": 0,
             "ticks": ""
            },
            "colorscale": [
             [
              0,
              "#0d0887"
             ],
             [
              0.1111111111111111,
              "#46039f"
             ],
             [
              0.2222222222222222,
              "#7201a8"
             ],
             [
              0.3333333333333333,
              "#9c179e"
             ],
             [
              0.4444444444444444,
              "#bd3786"
             ],
             [
              0.5555555555555556,
              "#d8576b"
             ],
             [
              0.6666666666666666,
              "#ed7953"
             ],
             [
              0.7777777777777778,
              "#fb9f3a"
             ],
             [
              0.8888888888888888,
              "#fdca26"
             ],
             [
              1,
              "#f0f921"
             ]
            ],
            "type": "histogram2d"
           }
          ],
          "histogram2dcontour": [
           {
            "colorbar": {
             "outlinewidth": 0,
             "ticks": ""
            },
            "colorscale": [
             [
              0,
              "#0d0887"
             ],
             [
              0.1111111111111111,
              "#46039f"
             ],
             [
              0.2222222222222222,
              "#7201a8"
             ],
             [
              0.3333333333333333,
              "#9c179e"
             ],
             [
              0.4444444444444444,
              "#bd3786"
             ],
             [
              0.5555555555555556,
              "#d8576b"
             ],
             [
              0.6666666666666666,
              "#ed7953"
             ],
             [
              0.7777777777777778,
              "#fb9f3a"
             ],
             [
              0.8888888888888888,
              "#fdca26"
             ],
             [
              1,
              "#f0f921"
             ]
            ],
            "type": "histogram2dcontour"
           }
          ],
          "mesh3d": [
           {
            "colorbar": {
             "outlinewidth": 0,
             "ticks": ""
            },
            "type": "mesh3d"
           }
          ],
          "parcoords": [
           {
            "line": {
             "colorbar": {
              "outlinewidth": 0,
              "ticks": ""
             }
            },
            "type": "parcoords"
           }
          ],
          "pie": [
           {
            "automargin": true,
            "type": "pie"
           }
          ],
          "scatter": [
           {
            "marker": {
             "colorbar": {
              "outlinewidth": 0,
              "ticks": ""
             }
            },
            "type": "scatter"
           }
          ],
          "scatter3d": [
           {
            "line": {
             "colorbar": {
              "outlinewidth": 0,
              "ticks": ""
             }
            },
            "marker": {
             "colorbar": {
              "outlinewidth": 0,
              "ticks": ""
             }
            },
            "type": "scatter3d"
           }
          ],
          "scattercarpet": [
           {
            "marker": {
             "colorbar": {
              "outlinewidth": 0,
              "ticks": ""
             }
            },
            "type": "scattercarpet"
           }
          ],
          "scattergeo": [
           {
            "marker": {
             "colorbar": {
              "outlinewidth": 0,
              "ticks": ""
             }
            },
            "type": "scattergeo"
           }
          ],
          "scattergl": [
           {
            "marker": {
             "colorbar": {
              "outlinewidth": 0,
              "ticks": ""
             }
            },
            "type": "scattergl"
           }
          ],
          "scattermapbox": [
           {
            "marker": {
             "colorbar": {
              "outlinewidth": 0,
              "ticks": ""
             }
            },
            "type": "scattermapbox"
           }
          ],
          "scatterpolar": [
           {
            "marker": {
             "colorbar": {
              "outlinewidth": 0,
              "ticks": ""
             }
            },
            "type": "scatterpolar"
           }
          ],
          "scatterpolargl": [
           {
            "marker": {
             "colorbar": {
              "outlinewidth": 0,
              "ticks": ""
             }
            },
            "type": "scatterpolargl"
           }
          ],
          "scatterternary": [
           {
            "marker": {
             "colorbar": {
              "outlinewidth": 0,
              "ticks": ""
             }
            },
            "type": "scatterternary"
           }
          ],
          "surface": [
           {
            "colorbar": {
             "outlinewidth": 0,
             "ticks": ""
            },
            "colorscale": [
             [
              0,
              "#0d0887"
             ],
             [
              0.1111111111111111,
              "#46039f"
             ],
             [
              0.2222222222222222,
              "#7201a8"
             ],
             [
              0.3333333333333333,
              "#9c179e"
             ],
             [
              0.4444444444444444,
              "#bd3786"
             ],
             [
              0.5555555555555556,
              "#d8576b"
             ],
             [
              0.6666666666666666,
              "#ed7953"
             ],
             [
              0.7777777777777778,
              "#fb9f3a"
             ],
             [
              0.8888888888888888,
              "#fdca26"
             ],
             [
              1,
              "#f0f921"
             ]
            ],
            "type": "surface"
           }
          ],
          "table": [
           {
            "cells": {
             "fill": {
              "color": "#EBF0F8"
             },
             "line": {
              "color": "white"
             }
            },
            "header": {
             "fill": {
              "color": "#C8D4E3"
             },
             "line": {
              "color": "white"
             }
            },
            "type": "table"
           }
          ]
         },
         "layout": {
          "annotationdefaults": {
           "arrowcolor": "#2a3f5f",
           "arrowhead": 0,
           "arrowwidth": 1
          },
          "autotypenumbers": "strict",
          "coloraxis": {
           "colorbar": {
            "outlinewidth": 0,
            "ticks": ""
           }
          },
          "colorscale": {
           "diverging": [
            [
             0,
             "#8e0152"
            ],
            [
             0.1,
             "#c51b7d"
            ],
            [
             0.2,
             "#de77ae"
            ],
            [
             0.3,
             "#f1b6da"
            ],
            [
             0.4,
             "#fde0ef"
            ],
            [
             0.5,
             "#f7f7f7"
            ],
            [
             0.6,
             "#e6f5d0"
            ],
            [
             0.7,
             "#b8e186"
            ],
            [
             0.8,
             "#7fbc41"
            ],
            [
             0.9,
             "#4d9221"
            ],
            [
             1,
             "#276419"
            ]
           ],
           "sequential": [
            [
             0,
             "#0d0887"
            ],
            [
             0.1111111111111111,
             "#46039f"
            ],
            [
             0.2222222222222222,
             "#7201a8"
            ],
            [
             0.3333333333333333,
             "#9c179e"
            ],
            [
             0.4444444444444444,
             "#bd3786"
            ],
            [
             0.5555555555555556,
             "#d8576b"
            ],
            [
             0.6666666666666666,
             "#ed7953"
            ],
            [
             0.7777777777777778,
             "#fb9f3a"
            ],
            [
             0.8888888888888888,
             "#fdca26"
            ],
            [
             1,
             "#f0f921"
            ]
           ],
           "sequentialminus": [
            [
             0,
             "#0d0887"
            ],
            [
             0.1111111111111111,
             "#46039f"
            ],
            [
             0.2222222222222222,
             "#7201a8"
            ],
            [
             0.3333333333333333,
             "#9c179e"
            ],
            [
             0.4444444444444444,
             "#bd3786"
            ],
            [
             0.5555555555555556,
             "#d8576b"
            ],
            [
             0.6666666666666666,
             "#ed7953"
            ],
            [
             0.7777777777777778,
             "#fb9f3a"
            ],
            [
             0.8888888888888888,
             "#fdca26"
            ],
            [
             1,
             "#f0f921"
            ]
           ]
          },
          "colorway": [
           "#636efa",
           "#EF553B",
           "#00cc96",
           "#ab63fa",
           "#FFA15A",
           "#19d3f3",
           "#FF6692",
           "#B6E880",
           "#FF97FF",
           "#FECB52"
          ],
          "font": {
           "color": "#2a3f5f"
          },
          "geo": {
           "bgcolor": "white",
           "lakecolor": "white",
           "landcolor": "#E5ECF6",
           "showlakes": true,
           "showland": true,
           "subunitcolor": "white"
          },
          "hoverlabel": {
           "align": "left"
          },
          "hovermode": "closest",
          "mapbox": {
           "style": "light"
          },
          "paper_bgcolor": "white",
          "plot_bgcolor": "#E5ECF6",
          "polar": {
           "angularaxis": {
            "gridcolor": "white",
            "linecolor": "white",
            "ticks": ""
           },
           "bgcolor": "#E5ECF6",
           "radialaxis": {
            "gridcolor": "white",
            "linecolor": "white",
            "ticks": ""
           }
          },
          "scene": {
           "xaxis": {
            "backgroundcolor": "#E5ECF6",
            "gridcolor": "white",
            "gridwidth": 2,
            "linecolor": "white",
            "showbackground": true,
            "ticks": "",
            "zerolinecolor": "white"
           },
           "yaxis": {
            "backgroundcolor": "#E5ECF6",
            "gridcolor": "white",
            "gridwidth": 2,
            "linecolor": "white",
            "showbackground": true,
            "ticks": "",
            "zerolinecolor": "white"
           },
           "zaxis": {
            "backgroundcolor": "#E5ECF6",
            "gridcolor": "white",
            "gridwidth": 2,
            "linecolor": "white",
            "showbackground": true,
            "ticks": "",
            "zerolinecolor": "white"
           }
          },
          "shapedefaults": {
           "line": {
            "color": "#2a3f5f"
           }
          },
          "ternary": {
           "aaxis": {
            "gridcolor": "white",
            "linecolor": "white",
            "ticks": ""
           },
           "baxis": {
            "gridcolor": "white",
            "linecolor": "white",
            "ticks": ""
           },
           "bgcolor": "#E5ECF6",
           "caxis": {
            "gridcolor": "white",
            "linecolor": "white",
            "ticks": ""
           }
          },
          "title": {
           "x": 0.05
          },
          "xaxis": {
           "automargin": true,
           "gridcolor": "white",
           "linecolor": "white",
           "ticks": "",
           "title": {
            "standoff": 15
           },
           "zerolinecolor": "white",
           "zerolinewidth": 2
          },
          "yaxis": {
           "automargin": true,
           "gridcolor": "white",
           "linecolor": "white",
           "ticks": "",
           "title": {
            "standoff": 15
           },
           "zerolinecolor": "white",
           "zerolinewidth": 2
          }
         }
        },
        "uniformtext": {
         "minsize": 8,
         "mode": "hide"
        },
        "xaxis": {
         "anchor": "y",
         "domain": [
          0,
          1
         ],
         "title": {
          "text": "property_agent"
         }
        },
        "yaxis": {
         "anchor": "x",
         "domain": [
          0,
          1
         ],
         "title": {
          "text": "property_price_amount_count"
         }
        }
       }
      },
      "text/html": [
       "<div>                            <div id=\"fcf6abb1-7001-45f9-8154-a76865a6c395\" class=\"plotly-graph-div\" style=\"height:525px; width:100%;\"></div>            <script type=\"text/javascript\">                require([\"plotly\"], function(Plotly) {                    window.PLOTLYENV=window.PLOTLYENV || {};                                    if (document.getElementById(\"fcf6abb1-7001-45f9-8154-a76865a6c395\")) {                    Plotly.newPlot(                        \"fcf6abb1-7001-45f9-8154-a76865a6c395\",                        [{\"alignmentgroup\": \"True\", \"hovertemplate\": \"property_agent=%{x}<br>property_price_amount_count=%{text}<extra></extra>\", \"legendgroup\": \"\", \"marker\": {\"color\": \"#636efa\"}, \"name\": \"\", \"offsetgroup\": \"\", \"orientation\": \"v\", \"showlegend\": false, \"text\": [43.0, 30.0, 33.0, 30.0, 43.0, 32.0, 45.0, 26.0, 57.0, 23.0, 24.0, 24.0, 96.0, 68.0, 65.0, 27.0, 25.0, 27.0, 43.0, 25.0], \"textposition\": \"outside\", \"texttemplate\": \"%{text:.2s}\", \"type\": \"bar\", \"x\": [\"Coral Property International Ltd\", \"A1 Properties Ltd\", \"Pam Golding Properties\", \"Olympia Gold Real Estate\", \"Wilnas Property Ltd\", \"Azizi Realtors\", \"Sky Limits Ventures\", \"Peech Limited\", \"Balis Properties\", \"Tysons Limited\", \"Kenya Classic Homes\", \"Canaan Properties\", \"Splendor Holdings\", \"Abode Realty\", \"Crystal Valuers LTD\", \"Prima Properties Ke\", \"Citiscape Valuers & Estate Agents Ltd\", \"Ace Realtors Limited\", \"Round The Clock Homes\", \"Ring Kenya Ltd\"], \"xaxis\": \"x\", \"y\": [43, 30, 33, 30, 43, 32, 45, 26, 57, 23, 24, 24, 96, 68, 65, 27, 25, 27, 43, 25], \"yaxis\": \"y\"}],                        {\"barmode\": \"relative\", \"legend\": {\"tracegroupgap\": 0}, \"margin\": {\"t\": 60}, \"template\": {\"data\": {\"bar\": [{\"error_x\": {\"color\": \"#2a3f5f\"}, \"error_y\": {\"color\": \"#2a3f5f\"}, \"marker\": {\"line\": {\"color\": \"#E5ECF6\", \"width\": 0.5}}, \"type\": \"bar\"}], \"barpolar\": [{\"marker\": {\"line\": {\"color\": \"#E5ECF6\", \"width\": 0.5}}, \"type\": \"barpolar\"}], \"carpet\": [{\"aaxis\": {\"endlinecolor\": \"#2a3f5f\", \"gridcolor\": \"white\", \"linecolor\": \"white\", \"minorgridcolor\": \"white\", \"startlinecolor\": \"#2a3f5f\"}, \"baxis\": {\"endlinecolor\": \"#2a3f5f\", \"gridcolor\": \"white\", \"linecolor\": \"white\", \"minorgridcolor\": \"white\", \"startlinecolor\": \"#2a3f5f\"}, \"type\": \"carpet\"}], \"choropleth\": [{\"colorbar\": {\"outlinewidth\": 0, \"ticks\": \"\"}, \"type\": \"choropleth\"}], \"contour\": [{\"colorbar\": {\"outlinewidth\": 0, \"ticks\": \"\"}, \"colorscale\": [[0.0, \"#0d0887\"], [0.1111111111111111, \"#46039f\"], [0.2222222222222222, \"#7201a8\"], [0.3333333333333333, \"#9c179e\"], [0.4444444444444444, \"#bd3786\"], [0.5555555555555556, \"#d8576b\"], [0.6666666666666666, \"#ed7953\"], [0.7777777777777778, \"#fb9f3a\"], [0.8888888888888888, \"#fdca26\"], [1.0, \"#f0f921\"]], \"type\": \"contour\"}], \"contourcarpet\": [{\"colorbar\": {\"outlinewidth\": 0, \"ticks\": \"\"}, \"type\": \"contourcarpet\"}], \"heatmap\": [{\"colorbar\": {\"outlinewidth\": 0, \"ticks\": \"\"}, \"colorscale\": [[0.0, \"#0d0887\"], [0.1111111111111111, \"#46039f\"], [0.2222222222222222, \"#7201a8\"], [0.3333333333333333, \"#9c179e\"], [0.4444444444444444, \"#bd3786\"], [0.5555555555555556, \"#d8576b\"], [0.6666666666666666, \"#ed7953\"], [0.7777777777777778, \"#fb9f3a\"], [0.8888888888888888, \"#fdca26\"], [1.0, \"#f0f921\"]], \"type\": \"heatmap\"}], \"heatmapgl\": [{\"colorbar\": {\"outlinewidth\": 0, \"ticks\": \"\"}, \"colorscale\": [[0.0, \"#0d0887\"], [0.1111111111111111, \"#46039f\"], [0.2222222222222222, \"#7201a8\"], [0.3333333333333333, \"#9c179e\"], [0.4444444444444444, \"#bd3786\"], [0.5555555555555556, \"#d8576b\"], [0.6666666666666666, \"#ed7953\"], [0.7777777777777778, \"#fb9f3a\"], [0.8888888888888888, \"#fdca26\"], [1.0, \"#f0f921\"]], \"type\": \"heatmapgl\"}], \"histogram\": [{\"marker\": {\"colorbar\": {\"outlinewidth\": 0, \"ticks\": \"\"}}, \"type\": \"histogram\"}], \"histogram2d\": [{\"colorbar\": {\"outlinewidth\": 0, \"ticks\": \"\"}, \"colorscale\": [[0.0, \"#0d0887\"], [0.1111111111111111, \"#46039f\"], [0.2222222222222222, \"#7201a8\"], [0.3333333333333333, \"#9c179e\"], [0.4444444444444444, \"#bd3786\"], [0.5555555555555556, \"#d8576b\"], [0.6666666666666666, \"#ed7953\"], [0.7777777777777778, \"#fb9f3a\"], [0.8888888888888888, \"#fdca26\"], [1.0, \"#f0f921\"]], \"type\": \"histogram2d\"}], \"histogram2dcontour\": [{\"colorbar\": {\"outlinewidth\": 0, \"ticks\": \"\"}, \"colorscale\": [[0.0, \"#0d0887\"], [0.1111111111111111, \"#46039f\"], [0.2222222222222222, \"#7201a8\"], [0.3333333333333333, \"#9c179e\"], [0.4444444444444444, \"#bd3786\"], [0.5555555555555556, \"#d8576b\"], [0.6666666666666666, \"#ed7953\"], [0.7777777777777778, \"#fb9f3a\"], [0.8888888888888888, \"#fdca26\"], [1.0, \"#f0f921\"]], \"type\": \"histogram2dcontour\"}], \"mesh3d\": [{\"colorbar\": {\"outlinewidth\": 0, \"ticks\": \"\"}, \"type\": \"mesh3d\"}], \"parcoords\": [{\"line\": {\"colorbar\": {\"outlinewidth\": 0, \"ticks\": \"\"}}, \"type\": \"parcoords\"}], \"pie\": [{\"automargin\": true, \"type\": \"pie\"}], \"scatter\": [{\"marker\": {\"colorbar\": {\"outlinewidth\": 0, \"ticks\": \"\"}}, \"type\": \"scatter\"}], \"scatter3d\": [{\"line\": {\"colorbar\": {\"outlinewidth\": 0, \"ticks\": \"\"}}, \"marker\": {\"colorbar\": {\"outlinewidth\": 0, \"ticks\": \"\"}}, \"type\": \"scatter3d\"}], \"scattercarpet\": [{\"marker\": {\"colorbar\": {\"outlinewidth\": 0, \"ticks\": \"\"}}, \"type\": \"scattercarpet\"}], \"scattergeo\": [{\"marker\": {\"colorbar\": {\"outlinewidth\": 0, \"ticks\": \"\"}}, \"type\": \"scattergeo\"}], \"scattergl\": [{\"marker\": {\"colorbar\": {\"outlinewidth\": 0, \"ticks\": \"\"}}, \"type\": \"scattergl\"}], \"scattermapbox\": [{\"marker\": {\"colorbar\": {\"outlinewidth\": 0, \"ticks\": \"\"}}, \"type\": \"scattermapbox\"}], \"scatterpolar\": [{\"marker\": {\"colorbar\": {\"outlinewidth\": 0, \"ticks\": \"\"}}, \"type\": \"scatterpolar\"}], \"scatterpolargl\": [{\"marker\": {\"colorbar\": {\"outlinewidth\": 0, \"ticks\": \"\"}}, \"type\": \"scatterpolargl\"}], \"scatterternary\": [{\"marker\": {\"colorbar\": {\"outlinewidth\": 0, \"ticks\": \"\"}}, \"type\": \"scatterternary\"}], \"surface\": [{\"colorbar\": {\"outlinewidth\": 0, \"ticks\": \"\"}, \"colorscale\": [[0.0, \"#0d0887\"], [0.1111111111111111, \"#46039f\"], [0.2222222222222222, \"#7201a8\"], [0.3333333333333333, \"#9c179e\"], [0.4444444444444444, \"#bd3786\"], [0.5555555555555556, \"#d8576b\"], [0.6666666666666666, \"#ed7953\"], [0.7777777777777778, \"#fb9f3a\"], [0.8888888888888888, \"#fdca26\"], [1.0, \"#f0f921\"]], \"type\": \"surface\"}], \"table\": [{\"cells\": {\"fill\": {\"color\": \"#EBF0F8\"}, \"line\": {\"color\": \"white\"}}, \"header\": {\"fill\": {\"color\": \"#C8D4E3\"}, \"line\": {\"color\": \"white\"}}, \"type\": \"table\"}]}, \"layout\": {\"annotationdefaults\": {\"arrowcolor\": \"#2a3f5f\", \"arrowhead\": 0, \"arrowwidth\": 1}, \"autotypenumbers\": \"strict\", \"coloraxis\": {\"colorbar\": {\"outlinewidth\": 0, \"ticks\": \"\"}}, \"colorscale\": {\"diverging\": [[0, \"#8e0152\"], [0.1, \"#c51b7d\"], [0.2, \"#de77ae\"], [0.3, \"#f1b6da\"], [0.4, \"#fde0ef\"], [0.5, \"#f7f7f7\"], [0.6, \"#e6f5d0\"], [0.7, \"#b8e186\"], [0.8, \"#7fbc41\"], [0.9, \"#4d9221\"], [1, \"#276419\"]], \"sequential\": [[0.0, \"#0d0887\"], [0.1111111111111111, \"#46039f\"], [0.2222222222222222, \"#7201a8\"], [0.3333333333333333, \"#9c179e\"], [0.4444444444444444, \"#bd3786\"], [0.5555555555555556, \"#d8576b\"], [0.6666666666666666, \"#ed7953\"], [0.7777777777777778, \"#fb9f3a\"], [0.8888888888888888, \"#fdca26\"], [1.0, \"#f0f921\"]], \"sequentialminus\": [[0.0, \"#0d0887\"], [0.1111111111111111, \"#46039f\"], [0.2222222222222222, \"#7201a8\"], [0.3333333333333333, \"#9c179e\"], [0.4444444444444444, \"#bd3786\"], [0.5555555555555556, \"#d8576b\"], [0.6666666666666666, \"#ed7953\"], [0.7777777777777778, \"#fb9f3a\"], [0.8888888888888888, \"#fdca26\"], [1.0, \"#f0f921\"]]}, \"colorway\": [\"#636efa\", \"#EF553B\", \"#00cc96\", \"#ab63fa\", \"#FFA15A\", \"#19d3f3\", \"#FF6692\", \"#B6E880\", \"#FF97FF\", \"#FECB52\"], \"font\": {\"color\": \"#2a3f5f\"}, \"geo\": {\"bgcolor\": \"white\", \"lakecolor\": \"white\", \"landcolor\": \"#E5ECF6\", \"showlakes\": true, \"showland\": true, \"subunitcolor\": \"white\"}, \"hoverlabel\": {\"align\": \"left\"}, \"hovermode\": \"closest\", \"mapbox\": {\"style\": \"light\"}, \"paper_bgcolor\": \"white\", \"plot_bgcolor\": \"#E5ECF6\", \"polar\": {\"angularaxis\": {\"gridcolor\": \"white\", \"linecolor\": \"white\", \"ticks\": \"\"}, \"bgcolor\": \"#E5ECF6\", \"radialaxis\": {\"gridcolor\": \"white\", \"linecolor\": \"white\", \"ticks\": \"\"}}, \"scene\": {\"xaxis\": {\"backgroundcolor\": \"#E5ECF6\", \"gridcolor\": \"white\", \"gridwidth\": 2, \"linecolor\": \"white\", \"showbackground\": true, \"ticks\": \"\", \"zerolinecolor\": \"white\"}, \"yaxis\": {\"backgroundcolor\": \"#E5ECF6\", \"gridcolor\": \"white\", \"gridwidth\": 2, \"linecolor\": \"white\", \"showbackground\": true, \"ticks\": \"\", \"zerolinecolor\": \"white\"}, \"zaxis\": {\"backgroundcolor\": \"#E5ECF6\", \"gridcolor\": \"white\", \"gridwidth\": 2, \"linecolor\": \"white\", \"showbackground\": true, \"ticks\": \"\", \"zerolinecolor\": \"white\"}}, \"shapedefaults\": {\"line\": {\"color\": \"#2a3f5f\"}}, \"ternary\": {\"aaxis\": {\"gridcolor\": \"white\", \"linecolor\": \"white\", \"ticks\": \"\"}, \"baxis\": {\"gridcolor\": \"white\", \"linecolor\": \"white\", \"ticks\": \"\"}, \"bgcolor\": \"#E5ECF6\", \"caxis\": {\"gridcolor\": \"white\", \"linecolor\": \"white\", \"ticks\": \"\"}}, \"title\": {\"x\": 0.05}, \"xaxis\": {\"automargin\": true, \"gridcolor\": \"white\", \"linecolor\": \"white\", \"ticks\": \"\", \"title\": {\"standoff\": 15}, \"zerolinecolor\": \"white\", \"zerolinewidth\": 2}, \"yaxis\": {\"automargin\": true, \"gridcolor\": \"white\", \"linecolor\": \"white\", \"ticks\": \"\", \"title\": {\"standoff\": 15}, \"zerolinecolor\": \"white\", \"zerolinewidth\": 2}}}, \"uniformtext\": {\"minsize\": 8, \"mode\": \"hide\"}, \"xaxis\": {\"anchor\": \"y\", \"domain\": [0.0, 1.0], \"title\": {\"text\": \"property_agent\"}}, \"yaxis\": {\"anchor\": \"x\", \"domain\": [0.0, 1.0], \"title\": {\"text\": \"property_price_amount_count\"}}},                        {\"responsive\": true}                    ).then(function(){\n",
       "                            \n",
       "var gd = document.getElementById('fcf6abb1-7001-45f9-8154-a76865a6c395');\n",
       "var x = new MutationObserver(function (mutations, observer) {{\n",
       "        var display = window.getComputedStyle(gd).display;\n",
       "        if (!display || display === 'none') {{\n",
       "            console.log([gd, 'removed!']);\n",
       "            Plotly.purge(gd);\n",
       "            observer.disconnect();\n",
       "        }}\n",
       "}});\n",
       "\n",
       "// Listen for the removal of the full notebook cells\n",
       "var notebookContainer = gd.closest('#notebook-container');\n",
       "if (notebookContainer) {{\n",
       "    x.observe(notebookContainer, {childList: true});\n",
       "}}\n",
       "\n",
       "// Listen for the clearing of the current output cell\n",
       "var outputEl = gd.closest('.output');\n",
       "if (outputEl) {{\n",
       "    x.observe(outputEl, {childList: true});\n",
       "}}\n",
       "\n",
       "                        })                };                });            </script>        </div>"
      ]
     },
     "metadata": {},
     "output_type": "display_data"
    }
   ],
   "source": [
    "\n",
    "agg_agent = agg_agent_df.head(20)\n",
    "fig = px.bar(agg_agent, y='property_price_amount_count', x='property_agent', text='property_price_amount_count')\n",
    "fig.update_traces(texttemplate='%{text:.2s}', textposition='outside')\n",
    "fig.update_layout(uniformtext_minsize=8, uniformtext_mode='hide')\n"
   ]
  },
  {
   "cell_type": "code",
   "execution_count": 16,
   "id": "6be63b31",
   "metadata": {},
   "outputs": [
    {
     "data": {
      "text/plain": [
       "<Figure size 1080x720 with 0 Axes>"
      ]
     },
     "execution_count": 16,
     "metadata": {},
     "output_type": "execute_result"
    },
    {
     "data": {
      "text/plain": [
       "Text(0.5, 1.0, 'Top 20 Property Agents in the Nairobi per No. of Properties listed on www.buyrent.com Kenya')"
      ]
     },
     "execution_count": 16,
     "metadata": {},
     "output_type": "execute_result"
    },
    {
     "data": {
      "text/plain": [
       "Text(0.5, 0, 'No. of Properties')"
      ]
     },
     "execution_count": 16,
     "metadata": {},
     "output_type": "execute_result"
    },
    {
     "data": {
      "text/plain": [
       "Text(0, 0.5, 'Agent')"
      ]
     },
     "execution_count": 16,
     "metadata": {},
     "output_type": "execute_result"
    },
    {
     "data": {
      "text/plain": [
       "[Text(0, 0, 'Splendor Holdings'),\n",
       " Text(0, 1, 'Abode Realty'),\n",
       " Text(0, 2, 'Crystal Valuers LTD'),\n",
       " Text(0, 3, 'Balis Properties'),\n",
       " Text(0, 4, 'Sky Limits Ventures'),\n",
       " Text(0, 5, 'Round The Clock Homes'),\n",
       " Text(0, 6, 'Wilnas Property Ltd'),\n",
       " Text(0, 7, 'Coral Property International Ltd'),\n",
       " Text(0, 8, 'Pam Golding Properties'),\n",
       " Text(0, 9, 'Azizi Realtors'),\n",
       " Text(0, 10, 'Olympia Gold Real Estate'),\n",
       " Text(0, 11, 'A1 Properties Ltd'),\n",
       " Text(0, 12, 'Prima Properties Ke'),\n",
       " Text(0, 13, 'Ace Realtors Limited'),\n",
       " Text(0, 14, 'Peech Limited'),\n",
       " Text(0, 15, 'Ring Kenya Ltd'),\n",
       " Text(0, 16, 'Citiscape Valuers & Estate Agents Ltd'),\n",
       " Text(0, 17, 'Canaan Properties'),\n",
       " Text(0, 18, 'Kenya Classic Homes'),\n",
       " Text(0, 19, 'Tysons Limited')]"
      ]
     },
     "execution_count": 16,
     "metadata": {},
     "output_type": "execute_result"
    },
    {
     "data": {
      "text/plain": [
       "Text(5, 0, '96')"
      ]
     },
     "execution_count": 16,
     "metadata": {},
     "output_type": "execute_result"
    },
    {
     "data": {
      "text/plain": [
       "Text(5, 0, '68')"
      ]
     },
     "execution_count": 16,
     "metadata": {},
     "output_type": "execute_result"
    },
    {
     "data": {
      "text/plain": [
       "Text(5, 0, '65')"
      ]
     },
     "execution_count": 16,
     "metadata": {},
     "output_type": "execute_result"
    },
    {
     "data": {
      "text/plain": [
       "Text(5, 0, '57')"
      ]
     },
     "execution_count": 16,
     "metadata": {},
     "output_type": "execute_result"
    },
    {
     "data": {
      "text/plain": [
       "Text(5, 0, '45')"
      ]
     },
     "execution_count": 16,
     "metadata": {},
     "output_type": "execute_result"
    },
    {
     "data": {
      "text/plain": [
       "Text(5, 0, '43')"
      ]
     },
     "execution_count": 16,
     "metadata": {},
     "output_type": "execute_result"
    },
    {
     "data": {
      "text/plain": [
       "Text(5, 0, '43')"
      ]
     },
     "execution_count": 16,
     "metadata": {},
     "output_type": "execute_result"
    },
    {
     "data": {
      "text/plain": [
       "Text(5, 0, '43')"
      ]
     },
     "execution_count": 16,
     "metadata": {},
     "output_type": "execute_result"
    },
    {
     "data": {
      "text/plain": [
       "Text(5, 0, '33')"
      ]
     },
     "execution_count": 16,
     "metadata": {},
     "output_type": "execute_result"
    },
    {
     "data": {
      "text/plain": [
       "Text(5, 0, '32')"
      ]
     },
     "execution_count": 16,
     "metadata": {},
     "output_type": "execute_result"
    },
    {
     "data": {
      "text/plain": [
       "Text(5, 0, '30')"
      ]
     },
     "execution_count": 16,
     "metadata": {},
     "output_type": "execute_result"
    },
    {
     "data": {
      "text/plain": [
       "Text(5, 0, '30')"
      ]
     },
     "execution_count": 16,
     "metadata": {},
     "output_type": "execute_result"
    },
    {
     "data": {
      "text/plain": [
       "Text(5, 0, '27')"
      ]
     },
     "execution_count": 16,
     "metadata": {},
     "output_type": "execute_result"
    },
    {
     "data": {
      "text/plain": [
       "Text(5, 0, '27')"
      ]
     },
     "execution_count": 16,
     "metadata": {},
     "output_type": "execute_result"
    },
    {
     "data": {
      "text/plain": [
       "Text(5, 0, '26')"
      ]
     },
     "execution_count": 16,
     "metadata": {},
     "output_type": "execute_result"
    },
    {
     "data": {
      "text/plain": [
       "Text(5, 0, '25')"
      ]
     },
     "execution_count": 16,
     "metadata": {},
     "output_type": "execute_result"
    },
    {
     "data": {
      "text/plain": [
       "Text(5, 0, '25')"
      ]
     },
     "execution_count": 16,
     "metadata": {},
     "output_type": "execute_result"
    },
    {
     "data": {
      "text/plain": [
       "Text(5, 0, '24')"
      ]
     },
     "execution_count": 16,
     "metadata": {},
     "output_type": "execute_result"
    },
    {
     "data": {
      "text/plain": [
       "Text(5, 0, '24')"
      ]
     },
     "execution_count": 16,
     "metadata": {},
     "output_type": "execute_result"
    },
    {
     "data": {
      "text/plain": [
       "Text(5, 0, '23')"
      ]
     },
     "execution_count": 16,
     "metadata": {},
     "output_type": "execute_result"
    },
    {
     "data": {
      "image/png": "[encoded data removed]",
      "text/plain": [
       "<Figure size 1080x720 with 1 Axes>"
      ]
     },
     "metadata": {
      "needs_background": "light"
     },
     "output_type": "display_data"
    }
   ],
   "source": [
    "#top 20 agents\n",
    "agent_ = agg_agent_df.head(20)\n",
    "\n",
    "# Bring some raw data.\n",
    "frequencies = agent_['property_price_amount_count']\n",
    "\n",
    "# In my original code I create a series and run on that,\n",
    "# so for consistency I create a series from the list.\n",
    "#freq_series = pd.Series.from_array(frequencies)\n",
    "\n",
    "y_labels = agent_['property_agent']\n",
    "\n",
    "# Plot the figure.\n",
    "plt.figure(figsize=(15, 10))\n",
    "ax = frequencies.plot(kind='barh')\n",
    "ax.invert_yaxis()\n",
    "ax.set_title('Top 20 Property Agents in the Nairobi per No. of Properties listed on www.buyrent.com Kenya')\n",
    "ax.set_xlabel('No. of Properties')\n",
    "ax.set_ylabel('Agent')\n",
    "ax.set_yticklabels(y_labels)\n",
    "#ax.set_xlim(0, 300) # expand xlim to make labels easier to read\n",
    "\n",
    "rects = ax.patches\n",
    "\n",
    "# For each bar: Place a label\n",
    "for rect in rects:\n",
    "    # Get X and Y placement of label from rect.\n",
    "    x_value = rect.get_width()\n",
    "    y_value = rect.get_y() + rect.get_height() / 2\n",
    "    \n",
    "      # Number of points between bar and label. Change to your liking.\n",
    "    space = 5\n",
    "    # Vertical alignment for positive values\n",
    "    ha = 'left'\n",
    "\n",
    "    # If value of bar is negative: Place label left of bar\n",
    "    if x_value < 0:\n",
    "        # Invert space to place label to the left\n",
    "        space *= -1\n",
    "        # Horizontally align label at right\n",
    "        ha = 'right'\n",
    "\n",
    "    # Use X value as label and format number with one decimal place\n",
    "    label = \"{:.0f}\".format(x_value)\n",
    "\n",
    "    # Create annotation\n",
    "    plt.annotate(\n",
    "        label,                      # Use `label` as label\n",
    "        (x_value, y_value),         # Place label at end of the bar\n",
    "        xytext=(space, 0),          # Horizontally shift label by `space`\n",
    "        textcoords=\"offset points\", # Interpret `xytext` as offset in points\n",
    "        va='center',                # Vertically center label\n",
    "        ha=ha)                      # Horizontally align label differently for\n",
    "                                    # positive and negative values.\n",
    "\n",
    "plt.savefig(\"./data/agents_distribution.png\")"
   ]
  },
  {
   "cell_type": "code",
   "execution_count": 17,
   "id": "cfaae973",
   "metadata": {},
   "outputs": [
    {
     "data": {
      "text/plain": [
       "<Figure size 1080x720 with 0 Axes>"
      ]
     },
     "execution_count": 17,
     "metadata": {},
     "output_type": "execute_result"
    },
    {
     "data": {
      "text/plain": [
       "Text(0.5, 1.0, 'Top 20 Property Agents in the Nairobi per Average Price as listed on www.buyrent.com Kenya')"
      ]
     },
     "execution_count": 17,
     "metadata": {},
     "output_type": "execute_result"
    },
    {
     "data": {
      "text/plain": [
       "Text(0.5, 0, 'Avg. Property Prices')"
      ]
     },
     "execution_count": 17,
     "metadata": {},
     "output_type": "execute_result"
    },
    {
     "data": {
      "text/plain": [
       "Text(0, 0.5, 'Agent')"
      ]
     },
     "execution_count": 17,
     "metadata": {},
     "output_type": "execute_result"
    },
    {
     "data": {
      "text/plain": [
       "[Text(0, 0, 'Coral Property International Ltd'),\n",
       " Text(0, 1, 'A1 Properties Ltd'),\n",
       " Text(0, 2, 'Pam Golding Properties'),\n",
       " Text(0, 3, 'Olympia Gold Real Estate'),\n",
       " Text(0, 4, 'Wilnas Property Ltd'),\n",
       " Text(0, 5, 'Azizi Realtors'),\n",
       " Text(0, 6, 'Sky Limits Ventures'),\n",
       " Text(0, 7, 'Peech Limited'),\n",
       " Text(0, 8, 'Balis Properties'),\n",
       " Text(0, 9, 'Tysons Limited'),\n",
       " Text(0, 10, 'Kenya Classic Homes'),\n",
       " Text(0, 11, 'Canaan Properties'),\n",
       " Text(0, 12, 'Splendor Holdings'),\n",
       " Text(0, 13, 'Abode Realty'),\n",
       " Text(0, 14, 'Crystal Valuers LTD'),\n",
       " Text(0, 15, 'Prima Properties Ke'),\n",
       " Text(0, 16, 'Citiscape Valuers & Estate Agents Ltd'),\n",
       " Text(0, 17, 'Ace Realtors Limited'),\n",
       " Text(0, 18, 'Round The Clock Homes'),\n",
       " Text(0, 19, 'Ring Kenya Ltd')]"
      ]
     },
     "execution_count": 17,
     "metadata": {},
     "output_type": "execute_result"
    },
    {
     "data": {
      "text/plain": [
       "Text(5, 0, '26362558')"
      ]
     },
     "execution_count": 17,
     "metadata": {},
     "output_type": "execute_result"
    },
    {
     "data": {
      "text/plain": [
       "Text(5, 0, '24246667')"
      ]
     },
     "execution_count": 17,
     "metadata": {},
     "output_type": "execute_result"
    },
    {
     "data": {
      "text/plain": [
       "Text(5, 0, '21834848')"
      ]
     },
     "execution_count": 17,
     "metadata": {},
     "output_type": "execute_result"
    },
    {
     "data": {
      "text/plain": [
       "Text(5, 0, '21705000')"
      ]
     },
     "execution_count": 17,
     "metadata": {},
     "output_type": "execute_result"
    },
    {
     "data": {
      "text/plain": [
       "Text(5, 0, '17993023')"
      ]
     },
     "execution_count": 17,
     "metadata": {},
     "output_type": "execute_result"
    },
    {
     "data": {
      "text/plain": [
       "Text(5, 0, '17412500')"
      ]
     },
     "execution_count": 17,
     "metadata": {},
     "output_type": "execute_result"
    },
    {
     "data": {
      "text/plain": [
       "Text(5, 0, '16486667')"
      ]
     },
     "execution_count": 17,
     "metadata": {},
     "output_type": "execute_result"
    },
    {
     "data": {
      "text/plain": [
       "Text(5, 0, '16276923')"
      ]
     },
     "execution_count": 17,
     "metadata": {},
     "output_type": "execute_result"
    },
    {
     "data": {
      "text/plain": [
       "Text(5, 0, '15900702')"
      ]
     },
     "execution_count": 17,
     "metadata": {},
     "output_type": "execute_result"
    },
    {
     "data": {
      "text/plain": [
       "Text(5, 0, '15410870')"
      ]
     },
     "execution_count": 17,
     "metadata": {},
     "output_type": "execute_result"
    },
    {
     "data": {
      "text/plain": [
       "Text(5, 0, '15345833')"
      ]
     },
     "execution_count": 17,
     "metadata": {},
     "output_type": "execute_result"
    },
    {
     "data": {
      "text/plain": [
       "Text(5, 0, '15320833')"
      ]
     },
     "execution_count": 17,
     "metadata": {},
     "output_type": "execute_result"
    },
    {
     "data": {
      "text/plain": [
       "Text(5, 0, '14846875')"
      ]
     },
     "execution_count": 17,
     "metadata": {},
     "output_type": "execute_result"
    },
    {
     "data": {
      "text/plain": [
       "Text(5, 0, '14504265')"
      ]
     },
     "execution_count": 17,
     "metadata": {},
     "output_type": "execute_result"
    },
    {
     "data": {
      "text/plain": [
       "Text(5, 0, '13357538')"
      ]
     },
     "execution_count": 17,
     "metadata": {},
     "output_type": "execute_result"
    },
    {
     "data": {
      "text/plain": [
       "Text(5, 0, '13079630')"
      ]
     },
     "execution_count": 17,
     "metadata": {},
     "output_type": "execute_result"
    },
    {
     "data": {
      "text/plain": [
       "Text(5, 0, '11222800')"
      ]
     },
     "execution_count": 17,
     "metadata": {},
     "output_type": "execute_result"
    },
    {
     "data": {
      "text/plain": [
       "Text(5, 0, '10416667')"
      ]
     },
     "execution_count": 17,
     "metadata": {},
     "output_type": "execute_result"
    },
    {
     "data": {
      "text/plain": [
       "Text(5, 0, '9587907')"
      ]
     },
     "execution_count": 17,
     "metadata": {},
     "output_type": "execute_result"
    },
    {
     "data": {
      "text/plain": [
       "Text(5, 0, '9352000')"
      ]
     },
     "execution_count": 17,
     "metadata": {},
     "output_type": "execute_result"
    },
    {
     "data": {
      "image/png": "[encoded data removed]",
      "text/plain": [
       "<Figure size 1080x720 with 1 Axes>"
      ]
     },
     "metadata": {
      "needs_background": "light"
     },
     "output_type": "display_data"
    }
   ],
   "source": [
    "#sorting the properties in descending order\n",
    "agg_agent_df = agg_agent_df.sort_values(by='property_price_amount_mean', ascending = False)\n",
    "\n",
    "#top 20 agents\n",
    "agent_ = agg_agent_df.head(20)\n",
    "\n",
    "# Bring some raw data.\n",
    "frequencies = agent_['property_price_amount_mean']\n",
    "\n",
    "# In my original code I create a series and run on that,\n",
    "# so for consistency I create a series from the list.\n",
    "#freq_series = pd.Series.from_array(frequencies)\n",
    "\n",
    "y_labels = agent_['property_agent']\n",
    "\n",
    "# Plot the figure.\n",
    "plt.figure(figsize=(15, 10))\n",
    "ax = frequencies.plot(kind='barh')\n",
    "ax.invert_yaxis()\n",
    "ax.set_title('Top 20 Property Agents in the Nairobi per Average Price as listed on www.buyrent.com Kenya')\n",
    "ax.set_xlabel('Avg. Property Prices')\n",
    "ax.set_ylabel('Agent')\n",
    "ax.set_yticklabels(y_labels)\n",
    "#ax.set_xlim(0, 300) # expand xlim to make labels easier to read\n",
    "\n",
    "rects = ax.patches\n",
    "\n",
    "# For each bar: Place a label\n",
    "for rect in rects:\n",
    "    # Get X and Y placement of label from rect.\n",
    "    x_value = rect.get_width()\n",
    "    y_value = rect.get_y() + rect.get_height() / 2\n",
    "    \n",
    "      # Number of points between bar and label. Change to your liking.\n",
    "    space = 5\n",
    "    # Vertical alignment for positive values\n",
    "    ha = 'left'\n",
    "\n",
    "    # If value of bar is negative: Place label left of bar\n",
    "    if x_value < 0:\n",
    "        # Invert space to place label to the left\n",
    "        space *= -1\n",
    "        # Horizontally align label at right\n",
    "        ha = 'right'\n",
    "\n",
    "    # Use X value as label and format number with one decimal place\n",
    "    label = \"{:.0f}\".format(x_value)\n",
    "\n",
    "    # Create annotation\n",
    "    plt.annotate(\n",
    "        label,                      # Use `label` as label\n",
    "        (x_value, y_value),         # Place label at end of the bar\n",
    "        xytext=(space, 0),          # Horizontally shift label by `space`\n",
    "        textcoords=\"offset points\", # Interpret `xytext` as offset in points\n",
    "        va='center',                # Vertically center label\n",
    "        ha=ha)                      # Horizontally align label differently for\n",
    "                                    # positive and negative values.\n",
    "\n",
    "plt.savefig(\"./data/agents_distribution_per_avg_price.png\")"
   ]
  },
  {
   "cell_type": "code",
   "execution_count": 18,
   "id": "136550a1",
   "metadata": {},
   "outputs": [
    {
     "ename": "PermissionError",
     "evalue": "[Errno 13] Permission denied: './data/scappered_nairobi_data.csv'",
     "output_type": "error",
     "traceback": [
      "\u001b[1;31m---------------------------------------------------------------------------\u001b[0m",
      "\u001b[1;31mPermissionError\u001b[0m                           Traceback (most recent call last)",
      "\u001b[1;32m~\\AppData\\Local\\Temp/ipykernel_11324/2895513606.py\u001b[0m in \u001b[0;36m<module>\u001b[1;34m\u001b[0m\n\u001b[1;32m----> 1\u001b[1;33m \u001b[0mdata\u001b[0m\u001b[1;33m.\u001b[0m\u001b[0mto_csv\u001b[0m\u001b[1;33m(\u001b[0m\u001b[1;34m\"./data/scappered_nairobi_data.csv\"\u001b[0m\u001b[1;33m)\u001b[0m\u001b[1;33m\u001b[0m\u001b[1;33m\u001b[0m\u001b[0m\n\u001b[0m",
      "\u001b[1;32m~\\anaconda3\\envs\\gilbe\\lib\\site-packages\\pandas\\core\\generic.py\u001b[0m in \u001b[0;36mto_csv\u001b[1;34m(self, path_or_buf, sep, na_rep, float_format, columns, header, index, index_label, mode, encoding, compression, quoting, quotechar, line_terminator, chunksize, date_format, doublequote, escapechar, decimal, errors, storage_options)\u001b[0m\n\u001b[0;32m   3464\u001b[0m         )\n\u001b[0;32m   3465\u001b[0m \u001b[1;33m\u001b[0m\u001b[0m\n\u001b[1;32m-> 3466\u001b[1;33m         return DataFrameRenderer(formatter).to_csv(\n\u001b[0m\u001b[0;32m   3467\u001b[0m             \u001b[0mpath_or_buf\u001b[0m\u001b[1;33m,\u001b[0m\u001b[1;33m\u001b[0m\u001b[1;33m\u001b[0m\u001b[0m\n\u001b[0;32m   3468\u001b[0m             \u001b[0mline_terminator\u001b[0m\u001b[1;33m=\u001b[0m\u001b[0mline_terminator\u001b[0m\u001b[1;33m,\u001b[0m\u001b[1;33m\u001b[0m\u001b[1;33m\u001b[0m\u001b[0m\n",
      "\u001b[1;32m~\\anaconda3\\envs\\gilbe\\lib\\site-packages\\pandas\\io\\formats\\format.py\u001b[0m in \u001b[0;36mto_csv\u001b[1;34m(self, path_or_buf, encoding, sep, columns, index_label, mode, compression, quoting, quotechar, line_terminator, chunksize, date_format, doublequote, escapechar, errors, storage_options)\u001b[0m\n\u001b[0;32m   1103\u001b[0m             \u001b[0mformatter\u001b[0m\u001b[1;33m=\u001b[0m\u001b[0mself\u001b[0m\u001b[1;33m.\u001b[0m\u001b[0mfmt\u001b[0m\u001b[1;33m,\u001b[0m\u001b[1;33m\u001b[0m\u001b[1;33m\u001b[0m\u001b[0m\n\u001b[0;32m   1104\u001b[0m         )\n\u001b[1;32m-> 1105\u001b[1;33m         \u001b[0mcsv_formatter\u001b[0m\u001b[1;33m.\u001b[0m\u001b[0msave\u001b[0m\u001b[1;33m(\u001b[0m\u001b[1;33m)\u001b[0m\u001b[1;33m\u001b[0m\u001b[1;33m\u001b[0m\u001b[0m\n\u001b[0m\u001b[0;32m   1106\u001b[0m \u001b[1;33m\u001b[0m\u001b[0m\n\u001b[0;32m   1107\u001b[0m         \u001b[1;32mif\u001b[0m \u001b[0mcreated_buffer\u001b[0m\u001b[1;33m:\u001b[0m\u001b[1;33m\u001b[0m\u001b[1;33m\u001b[0m\u001b[0m\n",
      "\u001b[1;32m~\\anaconda3\\envs\\gilbe\\lib\\site-packages\\pandas\\io\\formats\\csvs.py\u001b[0m in \u001b[0;36msave\u001b[1;34m(self)\u001b[0m\n\u001b[0;32m    235\u001b[0m         \"\"\"\n\u001b[0;32m    236\u001b[0m         \u001b[1;31m# apply compression and byte/text conversion\u001b[0m\u001b[1;33m\u001b[0m\u001b[1;33m\u001b[0m\u001b[1;33m\u001b[0m\u001b[0m\n\u001b[1;32m--> 237\u001b[1;33m         with get_handle(\n\u001b[0m\u001b[0;32m    238\u001b[0m             \u001b[0mself\u001b[0m\u001b[1;33m.\u001b[0m\u001b[0mfilepath_or_buffer\u001b[0m\u001b[1;33m,\u001b[0m\u001b[1;33m\u001b[0m\u001b[1;33m\u001b[0m\u001b[0m\n\u001b[0;32m    239\u001b[0m             \u001b[0mself\u001b[0m\u001b[1;33m.\u001b[0m\u001b[0mmode\u001b[0m\u001b[1;33m,\u001b[0m\u001b[1;33m\u001b[0m\u001b[1;33m\u001b[0m\u001b[0m\n",
      "\u001b[1;32m~\\anaconda3\\envs\\gilbe\\lib\\site-packages\\pandas\\io\\common.py\u001b[0m in \u001b[0;36mget_handle\u001b[1;34m(path_or_buf, mode, encoding, compression, memory_map, is_text, errors, storage_options)\u001b[0m\n\u001b[0;32m    700\u001b[0m         \u001b[1;32mif\u001b[0m \u001b[0mioargs\u001b[0m\u001b[1;33m.\u001b[0m\u001b[0mencoding\u001b[0m \u001b[1;32mand\u001b[0m \u001b[1;34m\"b\"\u001b[0m \u001b[1;32mnot\u001b[0m \u001b[1;32min\u001b[0m \u001b[0mioargs\u001b[0m\u001b[1;33m.\u001b[0m\u001b[0mmode\u001b[0m\u001b[1;33m:\u001b[0m\u001b[1;33m\u001b[0m\u001b[1;33m\u001b[0m\u001b[0m\n\u001b[0;32m    701\u001b[0m             \u001b[1;31m# Encoding\u001b[0m\u001b[1;33m\u001b[0m\u001b[1;33m\u001b[0m\u001b[1;33m\u001b[0m\u001b[0m\n\u001b[1;32m--> 702\u001b[1;33m             handle = open(\n\u001b[0m\u001b[0;32m    703\u001b[0m                 \u001b[0mhandle\u001b[0m\u001b[1;33m,\u001b[0m\u001b[1;33m\u001b[0m\u001b[1;33m\u001b[0m\u001b[0m\n\u001b[0;32m    704\u001b[0m                 \u001b[0mioargs\u001b[0m\u001b[1;33m.\u001b[0m\u001b[0mmode\u001b[0m\u001b[1;33m,\u001b[0m\u001b[1;33m\u001b[0m\u001b[1;33m\u001b[0m\u001b[0m\n",
      "\u001b[1;31mPermissionError\u001b[0m: [Errno 13] Permission denied: './data/scappered_nairobi_data.csv'"
     ]
    }
   ],
   "source": [
    "data.to_csv(\"./data/scappered_nairobi_data.csv\")"
   ]
  },
  {
   "cell_type": "code",
   "execution_count": null,
   "id": "3fbdf3c8",
   "metadata": {},
   "outputs": [],
   "source": []
  }
 ],
 "metadata": {
  "kernelspec": {
   "display_name": "Python 3 (ipykernel)",
   "language": "python",
   "name": "python3"
  },
  "language_info": {
   "codemirror_mode": {
    "name": "ipython",
    "version": 3
   },
   "file_extension": ".py",
   "mimetype": "text/x-python",
   "name": "python",
   "nbconvert_exporter": "python",
   "pygments_lexer": "ipython3",
   "version": "3.8.11"
  }
 },
 "nbformat": 4,
 "nbformat_minor": 5
}
